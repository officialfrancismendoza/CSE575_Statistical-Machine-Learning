{
 "cells": [
  {
   "cell_type": "markdown",
   "metadata": {},
   "source": [
    "# CLASSIFICATION USING NEURAL NETWORKS AND DEEP LEARNING "
   ]
  },
  {
   "cell_type": "markdown",
   "metadata": {},
   "source": [
    "**PROGRAMMER:** Francis Mendoza \n",
    "\n",
    "**ASUID:** 1213055998\n",
    "\n",
    "**EMAIL:** fmendoz7@asu.edu\n",
    "\n",
    "**CLASS:** CSE575, Wednesday 15:00-16:15 hrs MST, Project 3"
   ]
  },
  {
   "cell_type": "markdown",
   "metadata": {},
   "source": [
    "## PART 1: Assessing Original Boilerplate"
   ]
  },
  {
   "cell_type": "code",
   "execution_count": 1,
   "metadata": {},
   "outputs": [
    {
     "name": "stderr",
     "output_type": "stream",
     "text": [
      "Using TensorFlow backend.\n"
     ]
    },
    {
     "name": "stdout",
     "output_type": "stream",
     "text": [
      "x_train shape: (60000, 28, 28, 1)\n",
      "60000 train samples\n",
      "10000 test samples\n"
     ]
    }
   ],
   "source": [
    "# Import all necessary modules\n",
    "import keras\n",
    "from keras.datasets import mnist\n",
    "from keras.models import Sequential\n",
    "from keras.layers import Dense, Dropout, Flatten\n",
    "from keras.layers import Conv2D, MaxPooling2D\n",
    "from keras import backend as K\n",
    "\n",
    "batch_size = 128\n",
    "num_classes = 10\n",
    "epochs = 12\n",
    "\n",
    "# input image dimensions\n",
    "img_rows, img_cols = 28, 28\n",
    "\n",
    "# the data, split between train and test sets\n",
    "(x_train, y_train), (x_test, y_test) = mnist.load_data()\n",
    "\n",
    "if K.image_data_format() == 'channels_first':\n",
    "    x_train = x_train.reshape(x_train.shape[0], 1, img_rows, img_cols)\n",
    "    x_test = x_test.reshape(x_test.shape[0], 1, img_rows, img_cols)\n",
    "    input_shape = (1, img_rows, img_cols)\n",
    "else:\n",
    "    x_train = x_train.reshape(x_train.shape[0], img_rows, img_cols, 1)\n",
    "    x_test = x_test.reshape(x_test.shape[0], img_rows, img_cols, 1)\n",
    "    input_shape = (img_rows, img_cols, 1)\n",
    "\n",
    "x_train = x_train.astype('float32')\n",
    "x_test = x_test.astype('float32')\n",
    "x_train /= 255\n",
    "x_test /= 255\n",
    "print('x_train shape:', x_train.shape)\n",
    "print(x_train.shape[0], 'train samples')\n",
    "print(x_test.shape[0], 'test samples')"
   ]
  },
  {
   "cell_type": "markdown",
   "metadata": {},
   "source": [
    "### MODIFIED CODE TO RUN: Just kept lr=0.1 for Adadelta method"
   ]
  },
  {
   "cell_type": "code",
   "execution_count": 2,
   "metadata": {},
   "outputs": [
    {
     "data": {
      "text/plain": [
       "\"\\nmodel.compile(loss=keras.losses.categorical_crossentropy,\\n              optimizer=keras.optimizers.Adadelta(lr=0.1),\\n              metrics=['accuracy'])\\n\""
      ]
     },
     "execution_count": 2,
     "metadata": {},
     "output_type": "execute_result"
    }
   ],
   "source": [
    "# MODIFIED THIS LINE, AS ORIGINAL BOILERPLATE DID NOT RUN CORRECTLY \n",
    "\"\"\"\n",
    "model.compile(loss=keras.losses.categorical_crossentropy,\n",
    "              optimizer=keras.optimizers.Adadelta(lr=0.1, rho=0.95, epsilon=None, decay=0.0),\n",
    "              metrics=['accuracy'])\n",
    "\"\"\"\n",
    "\n",
    "# REPLACED WITH THIS LINE INSTEAD\n",
    "\"\"\"\n",
    "model.compile(loss=keras.losses.categorical_crossentropy,\n",
    "              optimizer=keras.optimizers.Adadelta(lr=0.1),\n",
    "              metrics=['accuracy'])\n",
    "\"\"\""
   ]
  },
  {
   "cell_type": "code",
   "execution_count": 3,
   "metadata": {
    "scrolled": true
   },
   "outputs": [
    {
     "name": "stdout",
     "output_type": "stream",
     "text": [
      "Train on 60000 samples, validate on 10000 samples\n",
      "Epoch 1/12\n",
      "60000/60000 [==============================] - 11s 191us/step - loss: 0.8265 - accuracy: 0.7492 - val_loss: 0.2397 - val_accuracy: 0.9308\n",
      "Epoch 2/12\n",
      "60000/60000 [==============================] - 12s 204us/step - loss: 0.2118 - accuracy: 0.9362 - val_loss: 0.1645 - val_accuracy: 0.9531\n",
      "Epoch 3/12\n",
      "60000/60000 [==============================] - 12s 207us/step - loss: 0.1581 - accuracy: 0.9519 - val_loss: 0.1284 - val_accuracy: 0.9632\n",
      "Epoch 4/12\n",
      "60000/60000 [==============================] - 11s 183us/step - loss: 0.1291 - accuracy: 0.9610 - val_loss: 0.1149 - val_accuracy: 0.9631\n",
      "Epoch 5/12\n",
      "60000/60000 [==============================] - 11s 183us/step - loss: 0.1103 - accuracy: 0.9661 - val_loss: 0.0947 - val_accuracy: 0.9718\n",
      "Epoch 6/12\n",
      "60000/60000 [==============================] - 11s 184us/step - loss: 0.0965 - accuracy: 0.9706 - val_loss: 0.0863 - val_accuracy: 0.9724\n",
      "Epoch 7/12\n",
      "60000/60000 [==============================] - 11s 185us/step - loss: 0.0867 - accuracy: 0.9737 - val_loss: 0.0781 - val_accuracy: 0.9757\n",
      "Epoch 8/12\n",
      "60000/60000 [==============================] - 11s 188us/step - loss: 0.0791 - accuracy: 0.9759 - val_loss: 0.0719 - val_accuracy: 0.9778\n",
      "Epoch 9/12\n",
      "60000/60000 [==============================] - 11s 186us/step - loss: 0.0728 - accuracy: 0.9780 - val_loss: 0.0670 - val_accuracy: 0.9792\n",
      "Epoch 10/12\n",
      "60000/60000 [==============================] - 11s 185us/step - loss: 0.0681 - accuracy: 0.9798 - val_loss: 0.0648 - val_accuracy: 0.9792\n",
      "Epoch 11/12\n",
      "60000/60000 [==============================] - 11s 185us/step - loss: 0.0640 - accuracy: 0.9808 - val_loss: 0.0609 - val_accuracy: 0.9809\n",
      "Epoch 12/12\n",
      "60000/60000 [==============================] - 11s 184us/step - loss: 0.0601 - accuracy: 0.9817 - val_loss: 0.0591 - val_accuracy: 0.9813\n"
     ]
    },
    {
     "data": {
      "text/plain": [
       "<keras.callbacks.callbacks.History at 0x123e946f3c8>"
      ]
     },
     "execution_count": 3,
     "metadata": {},
     "output_type": "execute_result"
    }
   ],
   "source": [
    "# convert class vectors to binary class matrices\n",
    "y_train = keras.utils.to_categorical(y_train, num_classes)\n",
    "y_test = keras.utils.to_categorical(y_test, num_classes)\n",
    "\n",
    "model = Sequential()\n",
    "model.add(Conv2D(6, kernel_size=(3, 3),\n",
    "                 activation='relu',\n",
    "                 input_shape=input_shape))\n",
    "model.add(MaxPooling2D(pool_size=(2, 2)))\n",
    "model.add(Conv2D(16, (3, 3), activation='relu'))\n",
    "model.add(MaxPooling2D(pool_size=(2, 2)))\n",
    "model.add(Flatten())\n",
    "model.add(Dense(120, activation='relu'))\n",
    "model.add(Dense(84, activation='relu'))\n",
    "\n",
    "model.add(Dense(num_classes, activation='softmax'))\n",
    "\n",
    "# https://keras.io/optimizers/ \n",
    "model.compile(loss=keras.losses.categorical_crossentropy,\n",
    "              optimizer=keras.optimizers.Adadelta(lr=0.1),\n",
    "              metrics=['accuracy'])\n",
    "\n",
    "model.fit(x_train, y_train,\n",
    "          batch_size=batch_size,\n",
    "          epochs=epochs,\n",
    "          verbose=1,\n",
    "          validation_data=(x_test, y_test))"
   ]
  },
  {
   "cell_type": "code",
   "execution_count": 4,
   "metadata": {},
   "outputs": [
    {
     "name": "stdout",
     "output_type": "stream",
     "text": [
      "Test loss: 0.05907550891721621\n",
      "Test accuracy: 0.9812999963760376\n"
     ]
    }
   ],
   "source": [
    "score = model.evaluate(x_test, y_test, verbose=0)\n",
    "print('Test loss:', score[0])\n",
    "print('Test accuracy:', score[1])"
   ]
  },
  {
   "cell_type": "markdown",
   "metadata": {},
   "source": [
    "**PART #1:** Assessing Original Boilerplate \n",
    "\n",
    "***Overall Test Loss:*** 0.05907550891721621\n",
    "    \n",
    "***Overall Test Accuracy:*** 0.9812999963760376"
   ]
  },
  {
   "cell_type": "markdown",
   "metadata": {},
   "source": [
    "# --------------------------------------------------------------------------------------"
   ]
  },
  {
   "cell_type": "markdown",
   "metadata": {},
   "source": [
    "# PART 2: Changing Kernel Size"
   ]
  },
  {
   "cell_type": "markdown",
   "metadata": {},
   "source": [
    "In this section, we:\n",
    "* CHANGED FROM BOILERPLATE: Change the kernel size to 5*5\n",
    "* Plot learning errors along the epoch\n",
    "* Report testing error\n",
    "* Report testing accuracy"
   ]
  },
  {
   "cell_type": "code",
   "execution_count": 12,
   "metadata": {},
   "outputs": [
    {
     "name": "stdout",
     "output_type": "stream",
     "text": [
      "x_train shape: (60000, 28, 28, 1)\n",
      "60000 train samples\n",
      "10000 test samples\n"
     ]
    }
   ],
   "source": [
    "# Import all necessary modules\n",
    "import keras\n",
    "from keras.datasets import mnist\n",
    "from keras.models import Sequential\n",
    "from keras.layers import Dense, Dropout, Conv2D, MaxPooling2D, Flatten #imported more stuff\n",
    "from keras.optimizers import RMSprop #imported more stuff\n",
    "from keras.layers import Conv2D, MaxPooling2D\n",
    "from keras import backend as K\n",
    "\n",
    "# Imported More Stuff\n",
    "#from __future__ import print_function\n",
    "import numpy as np\n",
    "import matplotlib.pyplot as plt\n",
    "%matplotlib inline\n",
    "\n",
    "batch_size = 128\n",
    "num_classes = 10\n",
    "epochs = 12\n",
    "\n",
    "# input image dimensions\n",
    "img_rows, img_cols = 28, 28\n",
    "\n",
    "# the data, split between train and test sets\n",
    "(x_train, y_train), (x_test, y_test) = mnist.load_data()\n",
    "\n",
    "if K.image_data_format() == 'channels_first':\n",
    "    x_train = x_train.reshape(x_train.shape[0], 1, img_rows, img_cols)\n",
    "    x_test = x_test.reshape(x_test.shape[0], 1, img_rows, img_cols)\n",
    "    input_shape = (1, img_rows, img_cols)\n",
    "else:\n",
    "    x_train = x_train.reshape(x_train.shape[0], img_rows, img_cols, 1)\n",
    "    x_test = x_test.reshape(x_test.shape[0], img_rows, img_cols, 1)\n",
    "    input_shape = (img_rows, img_cols, 1)\n",
    "\n",
    "x_train = x_train.astype('float32')\n",
    "x_test = x_test.astype('float32')\n",
    "x_train /= 255\n",
    "x_test /= 255\n",
    "print('x_train shape:', x_train.shape)\n",
    "print(x_train.shape[0], 'train samples')\n",
    "print(x_test.shape[0], 'test samples')"
   ]
  },
  {
   "cell_type": "code",
   "execution_count": 13,
   "metadata": {},
   "outputs": [
    {
     "name": "stdout",
     "output_type": "stream",
     "text": [
      "Train on 60000 samples, validate on 10000 samples\n",
      "Epoch 1/12\n",
      "60000/60000 [==============================] - 33s 548us/step - loss: 0.4360 - accuracy: 0.8747 - val_loss: 0.1595 - val_accuracy: 0.9514\n",
      "Epoch 2/12\n",
      "60000/60000 [==============================] - 32s 538us/step - loss: 0.1341 - accuracy: 0.9602 - val_loss: 0.1023 - val_accuracy: 0.9692\n",
      "Epoch 3/12\n",
      "60000/60000 [==============================] - 33s 542us/step - loss: 0.0913 - accuracy: 0.9732 - val_loss: 0.0678 - val_accuracy: 0.9792\n",
      "Epoch 4/12\n",
      "60000/60000 [==============================] - 32s 538us/step - loss: 0.0722 - accuracy: 0.9789 - val_loss: 0.0603 - val_accuracy: 0.9820\n",
      "Epoch 5/12\n",
      "60000/60000 [==============================] - 34s 568us/step - loss: 0.0601 - accuracy: 0.9819 - val_loss: 0.0488 - val_accuracy: 0.9853\n",
      "Epoch 6/12\n",
      "60000/60000 [==============================] - 34s 563us/step - loss: 0.0525 - accuracy: 0.9849 - val_loss: 0.0495 - val_accuracy: 0.9846\n",
      "Epoch 7/12\n",
      "60000/60000 [==============================] - 34s 575us/step - loss: 0.0466 - accuracy: 0.9863 - val_loss: 0.0422 - val_accuracy: 0.9872\n",
      "Epoch 8/12\n",
      "60000/60000 [==============================] - 33s 547us/step - loss: 0.0421 - accuracy: 0.9876 - val_loss: 0.0416 - val_accuracy: 0.9863\n",
      "Epoch 9/12\n",
      "60000/60000 [==============================] - 32s 541us/step - loss: 0.0380 - accuracy: 0.9888 - val_loss: 0.0375 - val_accuracy: 0.9877\n",
      "Epoch 10/12\n",
      "60000/60000 [==============================] - 33s 545us/step - loss: 0.0344 - accuracy: 0.9896 - val_loss: 0.0391 - val_accuracy: 0.9872\n",
      "Epoch 11/12\n",
      "60000/60000 [==============================] - 34s 570us/step - loss: 0.0319 - accuracy: 0.9904 - val_loss: 0.0391 - val_accuracy: 0.9873\n",
      "Epoch 12/12\n",
      "60000/60000 [==============================] - 35s 586us/step - loss: 0.0288 - accuracy: 0.9919 - val_loss: 0.0355 - val_accuracy: 0.9877\n"
     ]
    }
   ],
   "source": [
    "# convert class vectors to binary class matrices\n",
    "y_train = keras.utils.to_categorical(y_train, num_classes)\n",
    "y_test = keras.utils.to_categorical(y_test, num_classes)\n",
    "\n",
    "model2 = Sequential()\n",
    "\n",
    "# First Convolutional Layer\n",
    "    # Changed Features\n",
    "        # (!!!) Kernel Size = 5x5\n",
    "        # (!!!) Added strides = 1 for first CL and for first MaxPool\n",
    "    \n",
    "    # Unchanged Features\n",
    "        # Feature Maps = 6\n",
    "        # Max Pooling = 2x2\n",
    "model2.add(Conv2D(6, kernel_size=(5, 5),\n",
    "                 strides=(1,1),\n",
    "                 activation='relu',\n",
    "                 input_shape=input_shape))\n",
    "model2.add(MaxPooling2D(pool_size=(2, 2), strides=(1,1)))\n",
    "\n",
    "# Second Convolutional Layer\n",
    "    # Changed Features\n",
    "        # (!!!) Kernel Size = 5x5\n",
    "        # (!!!) Added strides = 1 for second CL and for second MaxPool\n",
    "        \n",
    "    # Unchanged Features\n",
    "        # Feature Maps = 16\n",
    "        # Max Pooling = 2x2 \n",
    "model2.add(Conv2D(16, (5, 5), strides=(1,1), activation='relu'))\n",
    "model2.add(MaxPooling2D(pool_size=(2, 2), strides=(1,1)))\n",
    "\n",
    "model2.add(Flatten())\n",
    "# First hidden Layer of 120 nodes \n",
    "model2.add(Dense(120, activation='relu'))\n",
    "# Second hidden Layer of 84 nodes \n",
    "model2.add(Dense(84, activation='relu'))\n",
    "\n",
    "# Softmax layer with 10 nodes (based on 10 classes)\n",
    "model2.add(Dense(num_classes, activation='softmax'))\n",
    "\n",
    "# https://keras.io/optimizers/ \n",
    "model2.compile(loss=keras.losses.categorical_crossentropy,\n",
    "              optimizer=keras.optimizers.Adadelta(lr=0.1),\n",
    "              metrics=['accuracy'])\n",
    "\n",
    "# Store model as variable to plot learning error over epochs later\n",
    "history2 = model2.fit(x_train, y_train,\n",
    "          batch_size=batch_size,\n",
    "          epochs=epochs,\n",
    "          verbose=1,\n",
    "          validation_data=(x_test, y_test))"
   ]
  },
  {
   "cell_type": "code",
   "execution_count": 19,
   "metadata": {},
   "outputs": [
    {
     "data": {
      "image/png": "[encoded data removed]",
      "text/plain": [
       "<Figure size 864x432 with 1 Axes>"
      ]
     },
     "metadata": {
      "needs_background": "light"
     },
     "output_type": "display_data"
    }
   ],
   "source": [
    "# Function to plot learning loss over epochs\n",
    "def plot_loss_accuracy(history2):\n",
    "    fig = plt.figure(figsize=(12, 6))\n",
    "    ax = fig.add_subplot(1, 2, 1)\n",
    "    ax.plot(history2.history[\"loss\"],'r-x', label=\"Train Loss\")\n",
    "    ax.plot(history2.history[\"val_loss\"],'b-x', label=\"Validation Loss\")\n",
    "    ax.legend()\n",
    "    ax.set_title('cross_entropy loss')\n",
    "    ax.set_xlabel('Epochs')\n",
    "    ax.set_ylabel('Error')\n",
    "    ax.grid(True)\n",
    "\n",
    "plot_loss_accuracy(history2)"
   ]
  },
  {
   "cell_type": "code",
   "execution_count": 11,
   "metadata": {},
   "outputs": [
    {
     "name": "stdout",
     "output_type": "stream",
     "text": [
      "Test loss: 0.057233879103045913\n",
      "Test accuracy: 0.9812999963760376\n"
     ]
    }
   ],
   "source": [
    "score = model2.evaluate(x_test, y_test, verbose=0)\n",
    "print('Test loss:', score[0])\n",
    "print('Test accuracy:', score[1])"
   ]
  },
  {
   "cell_type": "markdown",
   "metadata": {},
   "source": [
    "**PART #2:** Changing Kernel Size (5x5)\n",
    "\n",
    "***Overall Test Loss:*** 0.057233879103045913\n",
    "    \n",
    "***Overall Test Accuracy:*** 0.9812999963760376"
   ]
  },
  {
   "cell_type": "markdown",
   "metadata": {},
   "source": [
    "# --------------------------------------------------------------------------------------"
   ]
  },
  {
   "cell_type": "markdown",
   "metadata": {},
   "source": [
    "# PART 3: Changing Feature Maps"
   ]
  },
  {
   "cell_type": "markdown",
   "metadata": {},
   "source": [
    "In this section, we:\n",
    "* **CHANGED FROM BOILERPLATE:** Change the number of feature maps in the first and second convolutional layers, added additional hyperparameters\n",
    "* Plot learning errors along the epoch\n",
    "* Report testing error\n",
    "* Report testing accuracy"
   ]
  },
  {
   "cell_type": "code",
   "execution_count": 15,
   "metadata": {},
   "outputs": [
    {
     "name": "stdout",
     "output_type": "stream",
     "text": [
      "x_train shape: (60000, 28, 28, 1)\n",
      "60000 train samples\n",
      "10000 test samples\n"
     ]
    }
   ],
   "source": [
    "# Import all necessary modules\n",
    "import keras\n",
    "from keras.datasets import mnist\n",
    "from keras.models import Sequential\n",
    "from keras.layers import Dense, Dropout, Conv2D, MaxPooling2D, Flatten #imported more stuff\n",
    "from keras.optimizers import RMSprop #imported more stuff\n",
    "from keras.layers import Conv2D, MaxPooling2D\n",
    "from keras import backend as K\n",
    "\n",
    "# Imported More Stuff\n",
    "#from __future__ import print_function\n",
    "import numpy as np\n",
    "import matplotlib.pyplot as plt\n",
    "%matplotlib inline\n",
    "\n",
    "batch_size = 128\n",
    "num_classes = 10\n",
    "epochs = 12\n",
    "\n",
    "# input image dimensions\n",
    "img_rows, img_cols = 28, 28\n",
    "\n",
    "# the data, split between train and test sets\n",
    "(x_train, y_train), (x_test, y_test) = mnist.load_data()\n",
    "\n",
    "if K.image_data_format() == 'channels_first':\n",
    "    x_train = x_train.reshape(x_train.shape[0], 1, img_rows, img_cols)\n",
    "    x_test = x_test.reshape(x_test.shape[0], 1, img_rows, img_cols)\n",
    "    input_shape = (1, img_rows, img_cols)\n",
    "else:\n",
    "    x_train = x_train.reshape(x_train.shape[0], img_rows, img_cols, 1)\n",
    "    x_test = x_test.reshape(x_test.shape[0], img_rows, img_cols, 1)\n",
    "    input_shape = (img_rows, img_cols, 1)\n",
    "\n",
    "x_train = x_train.astype('float32')\n",
    "x_test = x_test.astype('float32')\n",
    "x_train /= 255\n",
    "x_test /= 255\n",
    "print('x_train shape:', x_train.shape)\n",
    "print(x_train.shape[0], 'train samples')\n",
    "print(x_test.shape[0], 'test samples')"
   ]
  },
  {
   "cell_type": "code",
   "execution_count": 16,
   "metadata": {},
   "outputs": [
    {
     "name": "stdout",
     "output_type": "stream",
     "text": [
      "Train on 60000 samples, validate on 10000 samples\n",
      "Epoch 1/12\n",
      "60000/60000 [==============================] - 36s 593us/step - loss: 0.4303 - accuracy: 0.8755 - val_loss: 0.1703 - val_accuracy: 0.9486\n",
      "Epoch 2/12\n",
      "60000/60000 [==============================] - 35s 588us/step - loss: 0.1337 - accuracy: 0.9602 - val_loss: 0.0917 - val_accuracy: 0.9732\n",
      "Epoch 3/12\n",
      "60000/60000 [==============================] - 35s 588us/step - loss: 0.0925 - accuracy: 0.9729 - val_loss: 0.0720 - val_accuracy: 0.9770\n",
      "Epoch 4/12\n",
      "60000/60000 [==============================] - 35s 588us/step - loss: 0.0741 - accuracy: 0.9783 - val_loss: 0.0571 - val_accuracy: 0.9805\n",
      "Epoch 5/12\n",
      "60000/60000 [==============================] - 35s 589us/step - loss: 0.0629 - accuracy: 0.9810 - val_loss: 0.0521 - val_accuracy: 0.9834\n",
      "Epoch 6/12\n",
      "60000/60000 [==============================] - 35s 589us/step - loss: 0.0537 - accuracy: 0.9840 - val_loss: 0.0520 - val_accuracy: 0.9832\n",
      "Epoch 7/12\n",
      "60000/60000 [==============================] - 36s 595us/step - loss: 0.0477 - accuracy: 0.9859 - val_loss: 0.0430 - val_accuracy: 0.9855\n",
      "Epoch 8/12\n",
      "60000/60000 [==============================] - 35s 592us/step - loss: 0.0425 - accuracy: 0.9872 - val_loss: 0.0387 - val_accuracy: 0.9875\n",
      "Epoch 9/12\n",
      "60000/60000 [==============================] - 36s 593us/step - loss: 0.0388 - accuracy: 0.9884 - val_loss: 0.0389 - val_accuracy: 0.9879\n",
      "Epoch 10/12\n",
      "60000/60000 [==============================] - 36s 594us/step - loss: 0.0351 - accuracy: 0.9898 - val_loss: 0.0365 - val_accuracy: 0.9877\n",
      "Epoch 11/12\n",
      "60000/60000 [==============================] - 36s 594us/step - loss: 0.0317 - accuracy: 0.9907 - val_loss: 0.0419 - val_accuracy: 0.9852\n",
      "Epoch 12/12\n",
      "60000/60000 [==============================] - 36s 595us/step - loss: 0.0288 - accuracy: 0.9915 - val_loss: 0.0399 - val_accuracy: 0.9866\n"
     ]
    }
   ],
   "source": [
    "# convert class vectors to binary class matrices\n",
    "y_train = keras.utils.to_categorical(y_train, num_classes)\n",
    "y_test = keras.utils.to_categorical(y_test, num_classes)\n",
    "\n",
    "model3 = Sequential()\n",
    "\n",
    "# First Convolutional Layer\n",
    "    # Changed Features \n",
    "        # (!!!) CHANGED FROM BOILERPLATE: 8 Feature Maps\n",
    "        # (!!!) Added strides = 1 for first CL and for first MaxPool\n",
    "        # (!!!) Added additional hyperparameter: padding = 'valid'\n",
    "        \n",
    "    # Unchanged Features\n",
    "        # Max Pooling = 2x2\n",
    "model3.add(Conv2D(8, kernel_size=(5, 5),\n",
    "                 strides=(1,1),\n",
    "                 activation='relu',\n",
    "                 padding='valid',\n",
    "                 input_shape=input_shape))\n",
    "model3.add(MaxPooling2D(pool_size=(2, 2), strides=(1,1)))\n",
    "\n",
    "# Second Convolutional Layer\n",
    "    # Changed Features \n",
    "        # (!!!) CHANGED FROM BOILERPLATE: 20 Feature Maps\n",
    "        # (!!!) Added strides = 1 for second CL and for second MaxPool\n",
    "        # (!!!) Added additional hyperparameter: padding = 'valid'\n",
    "        \n",
    "    # Unchanged Features\n",
    "        # Feature Maps = 6\n",
    "model3.add(Conv2D(20, (5, 5), strides=(1,1), activation='relu', padding='valid'))\n",
    "model3.add(MaxPooling2D(pool_size=(2, 2), strides=(1,1)))\n",
    "\n",
    "model2.add(Flatten())\n",
    "# First hidden Layer of 120 nodes \n",
    "model2.add(Dense(120, activation='relu'))\n",
    "# Second hidden Layer of 84 nodes \n",
    "model2.add(Dense(84, activation='relu'))\n",
    "\n",
    "# Softmax layer with 10 nodes (based on 10 classes)\n",
    "model3.add(Dense(num_classes, activation='softmax'))\n",
    "\n",
    "# https://keras.io/optimizers/ \n",
    "model3.compile(loss=keras.losses.categorical_crossentropy,\n",
    "              optimizer=keras.optimizers.Adadelta(lr=0.1),\n",
    "              metrics=['accuracy'])\n",
    "\n",
    "# Store model as variable to plot learning error over epochs later\n",
    "history3 = model3.fit(x_train, y_train,\n",
    "          batch_size=batch_size,\n",
    "          epochs=epochs,\n",
    "          verbose=1,\n",
    "          validation_data=(x_test, y_test))"
   ]
  },
  {
   "cell_type": "code",
   "execution_count": 20,
   "metadata": {},
   "outputs": [
    {
     "data": {
      "image/png": "[encoded data removed]",
      "text/plain": [
       "<Figure size 864x432 with 1 Axes>"
      ]
     },
     "metadata": {
      "needs_background": "light"
     },
     "output_type": "display_data"
    }
   ],
   "source": [
    "def plot_loss_accuracy(history3):\n",
    "    fig = plt.figure(figsize=(12, 6))\n",
    "    ax = fig.add_subplot(1, 2, 1)\n",
    "    ax.plot(history3.history[\"loss\"],'r-x', label=\"Train Loss\")\n",
    "    ax.plot(history3.history[\"val_loss\"],'b-x', label=\"Validation Loss\")\n",
    "    ax.legend()\n",
    "    ax.set_title('cross_entropy loss')\n",
    "    ax.set_xlabel('Epochs')\n",
    "    ax.set_ylabel('Error')\n",
    "    ax.grid(True)\n",
    "\n",
    "plot_loss_accuracy(history3)"
   ]
  },
  {
   "cell_type": "code",
   "execution_count": 18,
   "metadata": {},
   "outputs": [
    {
     "name": "stdout",
     "output_type": "stream",
     "text": [
      "Test loss: 0.03985264201965183\n",
      "Test accuracy: 0.9865999817848206\n"
     ]
    }
   ],
   "source": [
    "score = model3.evaluate(x_test, y_test, verbose=0)\n",
    "print('Test loss:', score[0])\n",
    "print('Test accuracy:', score[1])"
   ]
  },
  {
   "cell_type": "code",
   "execution_count": null,
   "metadata": {},
   "outputs": [],
   "source": []
  }
 ],
 "metadata": {
  "kernelspec": {
   "display_name": "Python 3",
   "language": "python",
   "name": "python3"
  },
  "language_info": {
   "codemirror_mode": {
    "name": "ipython",
    "version": 3
   },
   "file_extension": ".py",
   "mimetype": "text/x-python",
   "name": "python",
   "nbconvert_exporter": "python",
   "pygments_lexer": "ipython3",
   "version": "3.6.8"
  }
 },
 "nbformat": 4,
 "nbformat_minor": 4
}
