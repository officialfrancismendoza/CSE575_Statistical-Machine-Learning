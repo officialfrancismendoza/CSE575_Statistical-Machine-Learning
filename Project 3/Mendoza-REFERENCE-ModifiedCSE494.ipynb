{
 "cells": [
  {
   "cell_type": "markdown",
   "metadata": {},
   "source": [
    "## Handwritten Image Detection with Keras using MNIST and Fashion MNIST data\n",
    "\n",
    "In this exercise we will work with image data: specifically the famous MNIST and Fashion MNIST data sets.  MNIST data set contains 70,000 images of handwritten digits in grayscale (0=black, 255 = white). Fashion MNIST data set contains 70,000 images of clothing in grayscale (0=black, 255 = white). All the images are 28 pixels by 28 pixels for a total of 784 pixels.  This is quite small by image standards.  Also, the images are well centered and isolated.  This makes this problem solvable with standard fully connected neural nets without too much pre-work. <br><br>\n",
    "We will use a Convolutional Neural Network and compare it with a linear neural network. "
   ]
  },
  {
   "cell_type": "markdown",
   "metadata": {},
   "source": [
    "## NEW UPDATE: Can only use a SUBSET for training and testing (for ALL digits)"
   ]
  },
  {
   "cell_type": "code",
   "execution_count": 1,
   "metadata": {},
   "outputs": [
    {
     "data": {
      "text/plain": [
       "{'__header__': b'MATLAB 5.0 MAT-file Platform: nt, Created on: Wed Sep 11 18:23:31 2019',\n",
       " '__version__': '1.0',\n",
       " '__globals__': [],\n",
       " 'trX': array([[0., 0., 0., ..., 0., 0., 0.],\n",
       "        [0., 0., 0., ..., 0., 0., 0.],\n",
       "        [0., 0., 0., ..., 0., 0., 0.],\n",
       "        ...,\n",
       "        [0., 0., 0., ..., 0., 0., 0.],\n",
       "        [0., 0., 0., ..., 0., 0., 0.],\n",
       "        [0., 0., 0., ..., 0., 0., 0.]]),\n",
       " 'trY': array([[0., 0., 0., ..., 1., 1., 1.]]),\n",
       " 'tsX': array([[0., 0., 0., ..., 0., 0., 0.],\n",
       "        [0., 0., 0., ..., 0., 0., 0.],\n",
       "        [0., 0., 0., ..., 0., 0., 0.],\n",
       "        ...,\n",
       "        [0., 0., 0., ..., 0., 0., 0.],\n",
       "        [0., 0., 0., ..., 0., 0., 0.],\n",
       "        [0., 0., 0., ..., 0., 0., 0.]]),\n",
       " 'tsY': array([[0., 0., 0., ..., 1., 1., 1.]])}"
      ]
     },
     "execution_count": 1,
     "metadata": {},
     "output_type": "execute_result"
    }
   ],
   "source": [
    "#Extract Data Set\n",
    "\n",
    "from __future__ import print_function\n",
    "import statistics \n",
    "\n",
    "import os\n",
    "import scipy.io\n",
    "import numpy as np\n",
    "import pandas as pd \n",
    "\n",
    "import matplotlib.pyplot as plt\n",
    "%matplotlib inline\n",
    "\n",
    "#Import the relevant data using the filepath\n",
    "Numpyfile= scipy.io.loadmat('mnist_data.mat') \n",
    "    #Dictionary \n",
    "    \n",
    "#Display the NumpyFile to check four matrices \n",
    "Numpyfile"
   ]
  },
  {
   "cell_type": "markdown",
   "metadata": {},
   "source": [
    "In the first part of this notebook, we will walk you through loading in the data, building a network, and training it.  Then it will be your turn to try different models and see if you can improve performance"
   ]
  },
  {
   "cell_type": "code",
   "execution_count": 2,
   "metadata": {},
   "outputs": [
    {
     "name": "stderr",
     "output_type": "stream",
     "text": [
      "Using TensorFlow backend.\n"
     ]
    }
   ],
   "source": [
    "# Preliminaries\n",
    "\n",
    "from __future__ import print_function\n",
    "\n",
    "import keras\n",
    "from keras.datasets import mnist\n",
    "from keras.models import Sequential\n",
    "from keras.layers import Dense, Dropout, Conv2D, MaxPooling2D, Flatten\n",
    "from keras.optimizers import RMSprop\n",
    "from keras.datasets import fashion_mnist\n",
    "\n",
    "import numpy as np\n",
    "import matplotlib.pyplot as plt\n",
    "%matplotlib inline"
   ]
  },
  {
   "cell_type": "markdown",
   "metadata": {
    "collapsed": true
   },
   "source": [
    "Let's explore the dataset a little bit"
   ]
  },
  {
   "cell_type": "code",
   "execution_count": 3,
   "metadata": {},
   "outputs": [],
   "source": [
    "# Load the data, shuffled and split between train and test sets\n",
    "(x_train, y_train), (x_test, y_test) = mnist.load_data()"
   ]
  },
  {
   "cell_type": "code",
   "execution_count": 4,
   "metadata": {},
   "outputs": [
    {
     "data": {
      "text/plain": [
       "(60000, 28, 28)"
      ]
     },
     "execution_count": 4,
     "metadata": {},
     "output_type": "execute_result"
    }
   ],
   "source": [
    "x_train.shape"
   ]
  },
  {
   "cell_type": "code",
   "execution_count": 5,
   "metadata": {},
   "outputs": [
    {
     "data": {
      "text/plain": [
       "array([[  0,   0,   0,   0,   0,   0,   0,   0,   0,   0,   0,   0,   0,\n",
       "          0,   0,   0,   0,   0,   0,   0,   0,   0,   0,   0,   0,   0,\n",
       "          0,   0],\n",
       "       [  0,   0,   0,   0,   0,   0,   0,   0,   0,   0,   0,   0,   0,\n",
       "          0,   0,   0,   0,   0,   0,   0,   0,   0,   0,   0,   0,   0,\n",
       "          0,   0],\n",
       "       [  0,   0,   0,   0,   0,   0,   0,   0,   0,   0,   0,   0,   0,\n",
       "          0,   0,   0,   0,   0,   0,   0,   0,   0,   0,   0,   0,   0,\n",
       "          0,   0],\n",
       "       [  0,   0,   0,   0,   0,   0,   0,   0,   0,   0,   0,   0,   0,\n",
       "          0,   0,   0,   0,   0,   0,   0,   0,   0,   0,   0,   0,   0,\n",
       "          0,   0],\n",
       "       [  0,   0,   0,   0,   0,   0,   0,   0,   0,   0,   0,   0,   0,\n",
       "          0,   0,   0,   0,   0,   0,   0,   0,   0,   0,   0,   0,   0,\n",
       "          0,   0],\n",
       "       [  0,   0,   0,   0,   0,   0,   0,   0,   0,   0,   0,  87, 138,\n",
       "        170, 253, 201, 244, 212, 222, 138,  86,  22,   0,   0,   0,   0,\n",
       "          0,   0],\n",
       "       [  0,   0,   0,   0,   0,   0,   0,   0,   0,   0,  95, 253, 252,\n",
       "        252, 252, 252, 253, 252, 252, 252, 252, 245,  80,   0,   0,   0,\n",
       "          0,   0],\n",
       "       [  0,   0,   0,   0,   0,   0,   0,   0,   0,  68, 246, 205,  69,\n",
       "         69,  69,  69,  69,  69,  69,  69, 205, 253, 240,  50,   0,   0,\n",
       "          0,   0],\n",
       "       [  0,   0,   0,   0,   0,   0,   0,   0,   0, 187, 252, 218,  34,\n",
       "          0,   0,   0,   0,   0,   0,   0, 116, 253, 252,  69,   0,   0,\n",
       "          0,   0],\n",
       "       [  0,   0,   0,   0,   0,   0,   0,   0, 116, 248, 252, 253,  92,\n",
       "          0,   0,   0,   0,   0,   0,  95, 230, 253, 157,   6,   0,   0,\n",
       "          0,   0],\n",
       "       [  0,   0,   0,   0,   0,   0,   0,   0, 116, 249, 253, 189,  42,\n",
       "          0,   0,   0,   0,  36, 170, 253, 243, 158,   0,   0,   0,   0,\n",
       "          0,   0],\n",
       "       [  0,   0,   0,   0,   0,   0,   0,   0,   0, 133, 252, 245, 140,\n",
       "         34,   0,   0,  57, 219, 252, 235,  60,   0,   0,   0,   0,   0,\n",
       "          0,   0],\n",
       "       [  0,   0,   0,   0,   0,   0,   0,   0,   0,  25, 205, 253, 252,\n",
       "        234, 184, 184, 253, 240, 100,  44,   0,   0,   0,   0,   0,   0,\n",
       "          0,   0],\n",
       "       [  0,   0,   0,   0,   0,   0,   0,   0,   0,   0,  21, 161, 219,\n",
       "        252, 252, 252, 234,  37,   0,   0,   0,   0,   0,   0,   0,   0,\n",
       "          0,   0],\n",
       "       [  0,   0,   0,   0,   0,   0,   0,   0,   0,   0,   0,  11, 203,\n",
       "        252, 252, 252, 251, 135,   0,   0,   0,   0,   0,   0,   0,   0,\n",
       "          0,   0],\n",
       "       [  0,   0,   0,   0,   0,   0,   0,   0,   0,   9,  76, 255, 253,\n",
       "        205, 168, 220, 255, 253, 137,   5,   0,   0,   0,   0,   0,   0,\n",
       "          0,   0],\n",
       "       [  0,   0,   0,   0,   0,   0,   0,   0,   0, 114, 252, 249, 132,\n",
       "         25,   0,   0, 180, 252, 252,  45,   0,   0,   0,   0,   0,   0,\n",
       "          0,   0],\n",
       "       [  0,   0,   0,   0,   0,   0,   0,   0,  51, 220, 252, 199,   0,\n",
       "          0,   0,   0,  38, 186, 252, 154,   7,   0,   0,   0,   0,   0,\n",
       "          0,   0],\n",
       "       [  0,   0,   0,   0,   0,   0,   0,   0, 184, 252, 252,  21,   0,\n",
       "          0,   0,   0,   0,  67, 252, 252,  22,   0,   0,   0,   0,   0,\n",
       "          0,   0],\n",
       "       [  0,   0,   0,   0,   0,   0,   0,   0, 184, 252, 200,   0,   0,\n",
       "          0,   0,   0,   0,  47, 252, 252,  22,   0,   0,   0,   0,   0,\n",
       "          0,   0],\n",
       "       [  0,   0,   0,   0,   0,   0,   0,   0, 185, 253, 201,   0,   0,\n",
       "          0,   0,   0,   3, 118, 253, 245,  21,   0,   0,   0,   0,   0,\n",
       "          0,   0],\n",
       "       [  0,   0,   0,   0,   0,   0,   0,   0, 163, 252, 252,   0,   0,\n",
       "          0,   0,   0,  97, 252, 252,  87,   0,   0,   0,   0,   0,   0,\n",
       "          0,   0],\n",
       "       [  0,   0,   0,   0,   0,   0,   0,   0,  51, 240, 252, 123,  70,\n",
       "         70, 112, 184, 222, 252, 170,  13,   0,   0,   0,   0,   0,   0,\n",
       "          0,   0],\n",
       "       [  0,   0,   0,   0,   0,   0,   0,   0,   0, 165, 252, 253, 252,\n",
       "        252, 252, 252, 245, 139,  13,   0,   0,   0,   0,   0,   0,   0,\n",
       "          0,   0],\n",
       "       [  0,   0,   0,   0,   0,   0,   0,   0,   0,   9,  75, 253, 252,\n",
       "        221, 137, 137,  21,   0,   0,   0,   0,   0,   0,   0,   0,   0,\n",
       "          0,   0],\n",
       "       [  0,   0,   0,   0,   0,   0,   0,   0,   0,   0,   0,   0,   0,\n",
       "          0,   0,   0,   0,   0,   0,   0,   0,   0,   0,   0,   0,   0,\n",
       "          0,   0],\n",
       "       [  0,   0,   0,   0,   0,   0,   0,   0,   0,   0,   0,   0,   0,\n",
       "          0,   0,   0,   0,   0,   0,   0,   0,   0,   0,   0,   0,   0,\n",
       "          0,   0],\n",
       "       [  0,   0,   0,   0,   0,   0,   0,   0,   0,   0,   0,   0,   0,\n",
       "          0,   0,   0,   0,   0,   0,   0,   0,   0,   0,   0,   0,   0,\n",
       "          0,   0]], dtype=uint8)"
      ]
     },
     "execution_count": 5,
     "metadata": {},
     "output_type": "execute_result"
    }
   ],
   "source": [
    "#Let's just look at a particular example to see what is inside\n",
    "\n",
    "x_train[333]  ## Just a 28 x 28 numpy array of ints from 0 to 255"
   ]
  },
  {
   "cell_type": "code",
   "execution_count": 6,
   "metadata": {},
   "outputs": [
    {
     "data": {
      "text/plain": [
       "8"
      ]
     },
     "execution_count": 6,
     "metadata": {},
     "output_type": "execute_result"
    }
   ],
   "source": [
    "# What is the corresponding label in the training set?\n",
    "y_train[333]"
   ]
  },
  {
   "cell_type": "code",
   "execution_count": 7,
   "metadata": {},
   "outputs": [
    {
     "data": {
      "text/plain": [
       "<matplotlib.image.AxesImage at 0x2352a3a4cf8>"
      ]
     },
     "execution_count": 7,
     "metadata": {},
     "output_type": "execute_result"
    },
    {
     "data": {
      "image/png": "[encoded data removed]",
      "text/plain": [
       "<Figure size 432x288 with 1 Axes>"
      ]
     },
     "metadata": {
      "needs_background": "light"
     },
     "output_type": "display_data"
    }
   ],
   "source": [
    "# Let's see what this image actually looks like\n",
    "\n",
    "plt.imshow(x_train[333], cmap='Greys_r')"
   ]
  },
  {
   "cell_type": "code",
   "execution_count": 8,
   "metadata": {},
   "outputs": [
    {
     "name": "stdout",
     "output_type": "stream",
     "text": [
      "(60000, 28, 28) train samples\n",
      "(10000, 28, 28) test samples\n"
     ]
    }
   ],
   "source": [
    "# this is the shape of the np.array x_train\n",
    "# it is 3 dimensional.\n",
    "print(x_train.shape, 'train samples')\n",
    "print(x_test.shape, 'test samples')"
   ]
  },
  {
   "cell_type": "markdown",
   "metadata": {},
   "source": [
    "(COMPLETED #1): Input size is the size of the image (28x28)"
   ]
  },
  {
   "cell_type": "code",
   "execution_count": 9,
   "metadata": {},
   "outputs": [],
   "source": [
    "## For our purposes, these images are just a vector of 784 inputs, so let's convert\n",
    "x_train = x_train.reshape(len(x_train), 28*28)\n",
    "x_test = x_test.reshape(len(x_test), 28*28)\n",
    "\n",
    "## Keras works with floats, so we must cast the numbers to floats\n",
    "x_train = x_train.astype('float32')\n",
    "x_test = x_test.astype('float32')\n",
    "\n",
    "## Normalize the inputs so they are between 0 and 1\n",
    "x_train /= 255\n",
    "x_test /= 255\n"
   ]
  },
  {
   "cell_type": "code",
   "execution_count": 10,
   "metadata": {},
   "outputs": [
    {
     "data": {
      "text/plain": [
       "array([0., 0., 0., 0., 0., 0., 0., 0., 1., 0.], dtype=float32)"
      ]
     },
     "execution_count": 10,
     "metadata": {},
     "output_type": "execute_result"
    }
   ],
   "source": [
    "# convert class vectors to binary class matrices\n",
    "num_classes = 10\n",
    "y_train = keras.utils.to_categorical(y_train, num_classes)\n",
    "y_test = keras.utils.to_categorical(y_test, num_classes)\n",
    "\n",
    "y_train[333]  # now the digit k is represented by a 1 in the kth entry (0-indexed) of the length 10 vector"
   ]
  },
  {
   "cell_type": "code",
   "execution_count": 11,
   "metadata": {},
   "outputs": [],
   "source": [
    "# We will build a model with two hidden layers of size 512\n",
    "# Fully connected inputs at each layer\n",
    "# We will use dropout of .2 to help regularize\n",
    "model_1 = Sequential()\n",
    "model_1.add(Dense(64, activation='relu', input_shape=(784,)))\n",
    "model_1.add(Dropout(0.2))\n",
    "model_1.add(Dense(64, activation='relu'))\n",
    "model_1.add(Dropout(0.2))\n",
    "model_1.add(Dense(10, activation='softmax'))"
   ]
  },
  {
   "cell_type": "code",
   "execution_count": 12,
   "metadata": {
    "scrolled": true
   },
   "outputs": [
    {
     "name": "stdout",
     "output_type": "stream",
     "text": [
      "Model: \"sequential_1\"\n",
      "_________________________________________________________________\n",
      "Layer (type)                 Output Shape              Param #   \n",
      "=================================================================\n",
      "dense_1 (Dense)              (None, 64)                50240     \n",
      "_________________________________________________________________\n",
      "dropout_1 (Dropout)          (None, 64)                0         \n",
      "_________________________________________________________________\n",
      "dense_2 (Dense)              (None, 64)                4160      \n",
      "_________________________________________________________________\n",
      "dropout_2 (Dropout)          (None, 64)                0         \n",
      "_________________________________________________________________\n",
      "dense_3 (Dense)              (None, 10)                650       \n",
      "=================================================================\n",
      "Total params: 55,050\n",
      "Trainable params: 55,050\n",
      "Non-trainable params: 0\n",
      "_________________________________________________________________\n"
     ]
    }
   ],
   "source": [
    "## Note that this model has a LOT of parameters\n",
    "model_1.summary()"
   ]
  },
  {
   "cell_type": "code",
   "execution_count": 13,
   "metadata": {},
   "outputs": [],
   "source": [
    "# Let's compile the model\n",
    "learning_rate = .001\n",
    "model_1.compile(loss='categorical_crossentropy',\n",
    "              optimizer=RMSprop(lr=learning_rate),\n",
    "              metrics=['accuracy'])\n",
    "# note that `categorical cross entropy` is the natural generalization \n",
    "# of the loss function we had in binary classification case, to multi class case"
   ]
  },
  {
   "cell_type": "code",
   "execution_count": 14,
   "metadata": {},
   "outputs": [
    {
     "name": "stdout",
     "output_type": "stream",
     "text": [
      "Train on 60000 samples, validate on 10000 samples\n",
      "Epoch 1/30\n",
      "60000/60000 [==============================] - 2s 28us/step - loss: 0.5002 - accuracy: 0.8492 - val_loss: 0.2070 - val_accuracy: 0.9380\n",
      "Epoch 2/30\n",
      "60000/60000 [==============================] - 2s 26us/step - loss: 0.2490 - accuracy: 0.9280 - val_loss: 0.1486 - val_accuracy: 0.9570\n",
      "Epoch 3/30\n",
      "60000/60000 [==============================] - 2s 27us/step - loss: 0.2012 - accuracy: 0.9414 - val_loss: 0.1244 - val_accuracy: 0.9620\n",
      "Epoch 4/30\n",
      "60000/60000 [==============================] - 2s 29us/step - loss: 0.1719 - accuracy: 0.9492 - val_loss: 0.1148 - val_accuracy: 0.9654\n",
      "Epoch 5/30\n",
      "60000/60000 [==============================] - 2s 26us/step - loss: 0.1539 - accuracy: 0.9553 - val_loss: 0.1046 - val_accuracy: 0.9689\n",
      "Epoch 6/30\n",
      "60000/60000 [==============================] - 1s 25us/step - loss: 0.1445 - accuracy: 0.9570 - val_loss: 0.1038 - val_accuracy: 0.9694\n",
      "Epoch 7/30\n",
      "60000/60000 [==============================] - 2s 25us/step - loss: 0.1356 - accuracy: 0.9596 - val_loss: 0.1063 - val_accuracy: 0.9703\n",
      "Epoch 8/30\n",
      "60000/60000 [==============================] - 2s 27us/step - loss: 0.1268 - accuracy: 0.9631 - val_loss: 0.0971 - val_accuracy: 0.9727\n",
      "Epoch 9/30\n",
      "60000/60000 [==============================] - 1s 25us/step - loss: 0.1194 - accuracy: 0.9638 - val_loss: 0.0944 - val_accuracy: 0.9731\n",
      "Epoch 10/30\n",
      "60000/60000 [==============================] - 1s 22us/step - loss: 0.1151 - accuracy: 0.9659 - val_loss: 0.0968 - val_accuracy: 0.9743\n",
      "Epoch 11/30\n",
      "60000/60000 [==============================] - 1s 23us/step - loss: 0.1108 - accuracy: 0.9685 - val_loss: 0.0949 - val_accuracy: 0.9738\n",
      "Epoch 12/30\n",
      "60000/60000 [==============================] - 2s 25us/step - loss: 0.1043 - accuracy: 0.9688 - val_loss: 0.0922 - val_accuracy: 0.9744\n",
      "Epoch 13/30\n",
      "60000/60000 [==============================] - 1s 23us/step - loss: 0.1006 - accuracy: 0.9698 - val_loss: 0.0955 - val_accuracy: 0.9742\n",
      "Epoch 14/30\n",
      "60000/60000 [==============================] - 2s 26us/step - loss: 0.1031 - accuracy: 0.9700 - val_loss: 0.0914 - val_accuracy: 0.9752\n",
      "Epoch 15/30\n",
      "60000/60000 [==============================] - 1s 24us/step - loss: 0.0994 - accuracy: 0.9709 - val_loss: 0.0932 - val_accuracy: 0.9762\n",
      "Epoch 16/30\n",
      "60000/60000 [==============================] - 2s 26us/step - loss: 0.0959 - accuracy: 0.9720 - val_loss: 0.0951 - val_accuracy: 0.9739\n",
      "Epoch 17/30\n",
      "60000/60000 [==============================] - 2s 25us/step - loss: 0.0971 - accuracy: 0.9719 - val_loss: 0.0981 - val_accuracy: 0.9753\n",
      "Epoch 18/30\n",
      "60000/60000 [==============================] - 1s 24us/step - loss: 0.0932 - accuracy: 0.9725 - val_loss: 0.0973 - val_accuracy: 0.9758\n",
      "Epoch 19/30\n",
      "60000/60000 [==============================] - 2s 30us/step - loss: 0.0916 - accuracy: 0.9726 - val_loss: 0.0912 - val_accuracy: 0.9757\n",
      "Epoch 20/30\n",
      "60000/60000 [==============================] - 2s 29us/step - loss: 0.0903 - accuracy: 0.9734 - val_loss: 0.0988 - val_accuracy: 0.9762\n",
      "Epoch 21/30\n",
      "60000/60000 [==============================] - 2s 27us/step - loss: 0.0893 - accuracy: 0.9742 - val_loss: 0.1004 - val_accuracy: 0.9744\n",
      "Epoch 22/30\n",
      "60000/60000 [==============================] - 2s 30us/step - loss: 0.0901 - accuracy: 0.9741 - val_loss: 0.0982 - val_accuracy: 0.9752\n",
      "Epoch 23/30\n",
      "60000/60000 [==============================] - 2s 25us/step - loss: 0.0849 - accuracy: 0.9751 - val_loss: 0.0998 - val_accuracy: 0.9760\n",
      "Epoch 24/30\n",
      "60000/60000 [==============================] - 1s 25us/step - loss: 0.0857 - accuracy: 0.9752 - val_loss: 0.0944 - val_accuracy: 0.9781\n",
      "Epoch 25/30\n",
      "60000/60000 [==============================] - 2s 25us/step - loss: 0.0870 - accuracy: 0.9754 - val_loss: 0.0993 - val_accuracy: 0.9773\n",
      "Epoch 26/30\n",
      "60000/60000 [==============================] - 2s 29us/step - loss: 0.0861 - accuracy: 0.9747 - val_loss: 0.1030 - val_accuracy: 0.9756\n",
      "Epoch 27/30\n",
      "60000/60000 [==============================] - 2s 32us/step - loss: 0.0820 - accuracy: 0.9763 - val_loss: 0.0985 - val_accuracy: 0.9773\n",
      "Epoch 28/30\n",
      "60000/60000 [==============================] - 2s 33us/step - loss: 0.0829 - accuracy: 0.9755 - val_loss: 0.1082 - val_accuracy: 0.9755\n",
      "Epoch 29/30\n",
      "60000/60000 [==============================] - 2s 25us/step - loss: 0.0841 - accuracy: 0.9752 - val_loss: 0.1030 - val_accuracy: 0.9781\n",
      "Epoch 30/30\n",
      "60000/60000 [==============================] - 2s 29us/step - loss: 0.0833 - accuracy: 0.9756 - val_loss: 0.1043 - val_accuracy: 0.9772\n"
     ]
    }
   ],
   "source": [
    "# And now let's fit.\n",
    "\n",
    "batch_size = 128  # mini-batch with 128 examples\n",
    "epochs = 30\n",
    "history = model_1.fit(\n",
    "    x_train, y_train,\n",
    "    batch_size=batch_size,\n",
    "    epochs=epochs,\n",
    "    verbose=1,\n",
    "    validation_data=(x_test, y_test))"
   ]
  },
  {
   "cell_type": "code",
   "execution_count": 15,
   "metadata": {},
   "outputs": [
    {
     "name": "stdout",
     "output_type": "stream",
     "text": [
      "Test loss: 0.10425088465235022\n",
      "Test accuracy: 0.9771999716758728\n"
     ]
    }
   ],
   "source": [
    "## We will use Keras evaluate function to evaluate performance on the test set\n",
    "\n",
    "score = model_1.evaluate(x_test, y_test, verbose=0)\n",
    "print('Test loss:', score[0])\n",
    "print('Test accuracy:', score[1])"
   ]
  },
  {
   "cell_type": "code",
   "execution_count": 16,
   "metadata": {},
   "outputs": [
    {
     "data": {
      "image/png": "[encoded data removed]",
      "text/plain": [
       "<Figure size 864x432 with 2 Axes>"
      ]
     },
     "metadata": {
      "needs_background": "light"
     },
     "output_type": "display_data"
    }
   ],
   "source": [
    "def plot_loss_accuracy(history):\n",
    "    fig = plt.figure(figsize=(12, 6))\n",
    "    ax = fig.add_subplot(1, 2, 1)\n",
    "    ax.plot(history.history[\"loss\"],'r-x', label=\"Train Loss\")\n",
    "    ax.plot(history.history[\"val_loss\"],'b-x', label=\"Validation Loss\")\n",
    "    ax.legend()\n",
    "    ax.set_title('cross_entropy loss')\n",
    "    ax.grid(True)\n",
    "\n",
    "\n",
    "    ax = fig.add_subplot(1, 2, 2)\n",
    "    ax.plot(history.history[\"accuracy\"],'r-x', label=\"Train Accuracy\")\n",
    "    ax.plot(history.history[\"val_accuracy\"],'b-x', label=\"Validation Accuracy\")\n",
    "    ax.legend()\n",
    "    ax.set_title('accuracy')\n",
    "    ax.grid(True)\n",
    "    \n",
    "\n",
    "plot_loss_accuracy(history)"
   ]
  },
  {
   "cell_type": "markdown",
   "metadata": {},
   "source": [
    "This is reasonably good performance, but we can do even better!  Next you will build an even bigger network and compare the performance."
   ]
  },
  {
   "cell_type": "markdown",
   "metadata": {},
   "source": [
    "### -----------------------------------------------------------------------------------------------------------------------------"
   ]
  },
  {
   "cell_type": "markdown",
   "metadata": {},
   "source": [
    "### Keras Layers for CNNs\n",
    "- Previously we built Neural Networks using primarily the Dense, Activation and Dropout Layers.\n",
    "\n",
    "- Here we will describe how to use some of the CNN-specific layers provided by Keras\n",
    "\n",
    "### (!!!) NOTE THAT WE ARE USING A DIFFERENT MODEL\n",
    "\n",
    "#### Conv2D\n",
    "\n",
    "```python\n",
    "keras.layers.convolutional.Conv2D(filters, kernel_size, strides=(1, 1), padding='valid', data_format=None, dilation_rate=(1, 1), activation=None, use_bias=True, kernel_initializer='glorot_uniform', bias_initializer='zeros', kernel_regularizer=None, bias_regularizer=None, activity_regularizer=None, kernel_constraint=None, bias_constraint=None, **kwargs)\n",
    "```\n",
    "\n",
    "A few parameters explained:\n",
    "- `filters`: the number of filter used per location.  In other words, the depth of the output.\n",
    "- `kernel_size`: an (x,y) tuple giving the height and width of the kernel to be used\n",
    "- `strides`: and (x,y) tuple giving the stride in each dimension.  Default is `(1,1)`\n",
    "- `input_shape`: required only for the first layer\n",
    "\n",
    "Note, the size of the output will be determined by the kernel_size, strides\n",
    "\n",
    "#### MaxPooling2D\n",
    "`keras.layers.pooling.MaxPooling2D(pool_size=(2, 2), strides=None, padding='valid', data_format=None)`\n",
    "\n",
    "- `pool_size`: the (x,y) size of the grid to be pooled.\n",
    "- `strides`: Assumed to be the `pool_size` unless otherwise specified\n",
    "\n",
    "#### Flatten\n",
    "Turns its input into a one-dimensional vector (per instance).  Usually used when transitioning between convolutional layers and fully connected layers.\n"
   ]
  },
  {
   "cell_type": "markdown",
   "metadata": {},
   "source": [
    "# Exercise\n",
    "### Build your own CNN model\n",
    "Use the Keras \"Sequential\" functionality to build a convolutional neural network `model_2` with the following specifications:\n",
    "<br>\n",
    "<br>\n",
    "Model Architecture:<br>\n",
    "We will build the famous LeNet-5 architecutre and measure its performance.\n",
    "<br>\n",
    "    Convolution -> Relu -> Max pooling -> Convolution -> Relu -> Max pooling -> FC1 -> Relu -> FC2 -> Output(SoftMax)\n",
    "<br>\n",
    "\n",
    "1. Convolution1 kernel size: 5(H) x 5(W) x 6(filters), stride = 1, no padding\n",
    "2. Max pooling1 kernel size: 2(H) x 2(W), stride = 2\n",
    "3. Convolution2 kernel size: 5(H) x 5(W) x 16(filters), stride = 1, no padding\n",
    "4. Max pooling2 kernel size: 2(H) x 2(W), stride = 2\n",
    "5. Fully Connected1 size: 120\n",
    "6. Fully Connected1 size: 84\n",
    "7. How many parameters does your model have?  How does it compare with the previous model?\n",
    "8. Train this model for 20 epochs with RMSProp at a learning rate of .001 and a batch size of 128\n",
    "9. Plot the loss and accuracy graph for training the new model \n",
    "10. Evaluate the model on test data"
   ]
  },
  {
   "cell_type": "markdown",
   "metadata": {},
   "source": [
    "To use the LeNet model, we need to do some preprocessing of the data first.\n",
    "\n",
    "**(COMPLETED #1)**: Input size is the size of the image (28x28)"
   ]
  },
  {
   "cell_type": "code",
   "execution_count": 17,
   "metadata": {},
   "outputs": [
    {
     "data": {
      "text/plain": [
       "((60000, 28, 28), (10000, 28, 28))"
      ]
     },
     "execution_count": 17,
     "metadata": {},
     "output_type": "execute_result"
    }
   ],
   "source": [
    "# Data is currently flattened i.e. m X 784, we need to reshape it back to 28 * 28. To do that we reshape the data.\n",
    "\n",
    "x_train = np.reshape(x_train, [-1, 28, 28])\n",
    "x_test = np.reshape(x_test, [-1, 28, 28])\n",
    "x_train.shape, x_test.shape"
   ]
  },
  {
   "cell_type": "code",
   "execution_count": 18,
   "metadata": {},
   "outputs": [
    {
     "data": {
      "text/plain": [
       "((60000, 32, 32), (10000, 32, 32))"
      ]
     },
     "execution_count": 18,
     "metadata": {},
     "output_type": "execute_result"
    }
   ],
   "source": [
    "# LeNet requires input of 32 X 32. So, we will pad the train and test images with zeros to increase the size to 32 X 32.\n",
    "\n",
    "x_train=np.pad(x_train, ((0,0), (2,2), (2, 2)), 'constant')\n",
    "x_test=np.pad(x_test, ((0,0), (2,2), (2, 2)), 'constant')\n",
    "x_train.shape, x_test.shape"
   ]
  },
  {
   "cell_type": "code",
   "execution_count": 19,
   "metadata": {},
   "outputs": [
    {
     "data": {
      "text/plain": [
       "((60000, 32, 32, 1), (10000, 32, 32, 1))"
      ]
     },
     "execution_count": 19,
     "metadata": {},
     "output_type": "execute_result"
    }
   ],
   "source": [
    "# Convolutional model requires input to be of 3 dimensions. We will add a channel dimension to it.\n",
    "\n",
    "x_train = np.reshape(x_train, [-1, 32, 32, 1])\n",
    "x_test = np.reshape(x_test, [-1, 32, 32, 1])\n",
    "x_train.shape, x_test.shape"
   ]
  },
  {
   "cell_type": "markdown",
   "metadata": {},
   "source": [
    "Write your model below"
   ]
  },
  {
   "cell_type": "markdown",
   "metadata": {},
   "source": [
    "**(!!!) COMPLETED #2:** 2x2 pooling with stride 1"
   ]
  },
  {
   "cell_type": "code",
   "execution_count": 20,
   "metadata": {},
   "outputs": [],
   "source": [
    "#(!!!) UNTESTED MODEL\n",
    "    #is padding invalid by default?\n",
    "model2 = Sequential()\n",
    "\n",
    "#CNN LAYER 1\n",
    "    #6 filters is the STARTING number\n",
    "        #'valid' padding is no padding\n",
    "        #Tuple for strides is the same number all throughout\n",
    "        #Strides have same dimensions as kernel\n",
    "model2.add(Conv2D(6, kernel_size=(5,5), strides=(1,1),activation='relu', padding='valid'))\n",
    "model2.add(MaxPooling2D(pool_size=(2,2),strides=(2,2)))\n",
    "\n",
    "#CNN LAYER 2\n",
    "    #16 filters is the STARTING number\n",
    "    #'valid' padding is no padding\n",
    "model2.add(Conv2D(16, kernel_size=(5,5), strides=(1,1),activation='relu', padding='valid'))\n",
    "model2.add(MaxPooling2D(pool_size=(2,2),strides=(2,2)))\n",
    "\n",
    "#Fully Connected\n",
    "    #NEED activation function at every layer\n",
    "    #Here, we will always use relu\n",
    "model2.add(Flatten())\n",
    "    #Just replace Flatten with Dropout for bonus project\n",
    "    \n",
    "\"\"\"(!!!) COMPLETED #6: Hidden Layer with 120 nodes, ReLU as activation function\"\"\" \n",
    "model2.add(Dense(120, activation='relu'))\n",
    "model2.add(Dense(84, activation='relu'))\n",
    "model2.add(Dense(10, activation='softmax'))\n",
    "    #Because 10 numbers"
   ]
  },
  {
   "cell_type": "code",
   "execution_count": 21,
   "metadata": {},
   "outputs": [
    {
     "name": "stdout",
     "output_type": "stream",
     "text": [
      "Train on 60000 samples, validate on 10000 samples\n",
      "Epoch 1/20\n",
      "60000/60000 [==============================] - 20s 328us/step - loss: 0.2689 - accuracy: 0.9173 - val_loss: 0.1080 - val_accuracy: 0.9634\n",
      "Epoch 2/20\n",
      "60000/60000 [==============================] - 18s 296us/step - loss: 0.0721 - accuracy: 0.9771 - val_loss: 0.0426 - val_accuracy: 0.9859\n",
      "Epoch 3/20\n",
      "60000/60000 [==============================] - 18s 295us/step - loss: 0.0496 - accuracy: 0.9843 - val_loss: 0.0500 - val_accuracy: 0.9828\n",
      "Epoch 4/20\n",
      "60000/60000 [==============================] - 18s 293us/step - loss: 0.0382 - accuracy: 0.9876 - val_loss: 0.0386 - val_accuracy: 0.9857\n",
      "Epoch 5/20\n",
      "60000/60000 [==============================] - 18s 294us/step - loss: 0.0313 - accuracy: 0.9901 - val_loss: 0.0342 - val_accuracy: 0.9883\n",
      "Epoch 6/20\n",
      "60000/60000 [==============================] - 18s 295us/step - loss: 0.0259 - accuracy: 0.9917 - val_loss: 0.0270 - val_accuracy: 0.9918\n",
      "Epoch 7/20\n",
      "60000/60000 [==============================] - 18s 296us/step - loss: 0.0223 - accuracy: 0.9932 - val_loss: 0.0337 - val_accuracy: 0.9897\n",
      "Epoch 8/20\n",
      "60000/60000 [==============================] - 19s 313us/step - loss: 0.0186 - accuracy: 0.9940 - val_loss: 0.0449 - val_accuracy: 0.9869\n",
      "Epoch 9/20\n",
      "60000/60000 [==============================] - 19s 320us/step - loss: 0.0161 - accuracy: 0.9952 - val_loss: 0.0324 - val_accuracy: 0.9905\n",
      "Epoch 10/20\n",
      "60000/60000 [==============================] - 19s 323us/step - loss: 0.0138 - accuracy: 0.9956 - val_loss: 0.0326 - val_accuracy: 0.9901\n",
      "Epoch 11/20\n",
      "60000/60000 [==============================] - 20s 328us/step - loss: 0.0120 - accuracy: 0.9959 - val_loss: 0.0360 - val_accuracy: 0.9894\n",
      "Epoch 12/20\n",
      "60000/60000 [==============================] - 19s 323us/step - loss: 0.0102 - accuracy: 0.9967 - val_loss: 0.0378 - val_accuracy: 0.9888\n",
      "Epoch 13/20\n",
      "60000/60000 [==============================] - 19s 321us/step - loss: 0.0090 - accuracy: 0.9972 - val_loss: 0.0362 - val_accuracy: 0.9906\n",
      "Epoch 14/20\n",
      "60000/60000 [==============================] - 19s 324us/step - loss: 0.0085 - accuracy: 0.9976 - val_loss: 0.0409 - val_accuracy: 0.9900\n",
      "Epoch 15/20\n",
      "60000/60000 [==============================] - 19s 321us/step - loss: 0.0075 - accuracy: 0.9977 - val_loss: 0.0422 - val_accuracy: 0.9904\n",
      "Epoch 16/20\n",
      "60000/60000 [==============================] - 19s 319us/step - loss: 0.0069 - accuracy: 0.9978 - val_loss: 0.0397 - val_accuracy: 0.9913\n",
      "Epoch 17/20\n",
      "60000/60000 [==============================] - 18s 304us/step - loss: 0.0061 - accuracy: 0.9981 - val_loss: 0.0398 - val_accuracy: 0.9909\n",
      "Epoch 18/20\n",
      "60000/60000 [==============================] - 18s 304us/step - loss: 0.0056 - accuracy: 0.9984 - val_loss: 0.0558 - val_accuracy: 0.9895\n",
      "Epoch 19/20\n",
      "60000/60000 [==============================] - 18s 297us/step - loss: 0.0046 - accuracy: 0.9986 - val_loss: 0.0429 - val_accuracy: 0.9924\n",
      "Epoch 20/20\n",
      "60000/60000 [==============================] - 18s 298us/step - loss: 0.0046 - accuracy: 0.9986 - val_loss: 0.0596 - val_accuracy: 0.9893\n",
      "Test loss: 0.0595777333982335\n",
      "Test accuracy: 0.989300012588501\n"
     ]
    }
   ],
   "source": [
    "#(!!!) UNTESTED COMPILATION\n",
    "    #20 epochs \n",
    "    #With RMSProp \n",
    "    #Learning rate of .001 \n",
    "    #Batch size of 128\n",
    "model2.compile(loss=keras.losses.categorical_crossentropy,\n",
    "              optimizer=keras.optimizers.RMSprop(lr=0.001),\n",
    "              metrics=['accuracy'])\n",
    "\n",
    "\"\"\"model2.fit(x_train, y_train,\n",
    "          batch_size=128,\n",
    "          epochs=20,\n",
    "          verbose=1,\n",
    "          validation_data=(x_test, y_test),\n",
    "          callbacks=[history])\"\"\"\n",
    "\n",
    "#-----------------------------------------------\n",
    "#(!!!) WILL CHANGE BATCH SIZE AND EPOCH NUMBER\n",
    "batch_size = 128  # mini-batch with 128 examples\n",
    "epochs = 20\n",
    "history2 = model2.fit(\n",
    "    x_train, y_train,\n",
    "    batch_size=batch_size,\n",
    "    epochs=epochs,\n",
    "    verbose=1,\n",
    "    validation_data=(x_test, y_test))\n",
    "#-----------------------------------------------\n",
    "\n",
    "score = model2.evaluate(x_test, y_test, verbose=0)\n",
    "print('Test loss:', score[0])\n",
    "print('Test accuracy:', score[1])"
   ]
  },
  {
   "cell_type": "code",
   "execution_count": 22,
   "metadata": {},
   "outputs": [
    {
     "name": "stdout",
     "output_type": "stream",
     "text": [
      "Model: \"sequential_2\"\n",
      "_________________________________________________________________\n",
      "Layer (type)                 Output Shape              Param #   \n",
      "=================================================================\n",
      "conv2d_1 (Conv2D)            (None, 28, 28, 6)         156       \n",
      "_________________________________________________________________\n",
      "max_pooling2d_1 (MaxPooling2 (None, 14, 14, 6)         0         \n",
      "_________________________________________________________________\n",
      "conv2d_2 (Conv2D)            (None, 10, 10, 16)        2416      \n",
      "_________________________________________________________________\n",
      "max_pooling2d_2 (MaxPooling2 (None, 5, 5, 16)          0         \n",
      "_________________________________________________________________\n",
      "flatten_1 (Flatten)          (None, 400)               0         \n",
      "_________________________________________________________________\n",
      "dense_4 (Dense)              (None, 120)               48120     \n",
      "_________________________________________________________________\n",
      "dense_5 (Dense)              (None, 84)                10164     \n",
      "_________________________________________________________________\n",
      "dense_6 (Dense)              (None, 10)                850       \n",
      "=================================================================\n",
      "Total params: 61,706\n",
      "Trainable params: 61,706\n",
      "Non-trainable params: 0\n",
      "_________________________________________________________________\n"
     ]
    }
   ],
   "source": [
    "## Note that this model has a LOT of parameters\n",
    "    #Numbers verified to be correct\n",
    "model2.summary()"
   ]
  },
  {
   "cell_type": "code",
   "execution_count": 23,
   "metadata": {},
   "outputs": [
    {
     "data": {
      "image/png": "[encoded data removed]",
      "text/plain": [
       "<Figure size 864x432 with 2 Axes>"
      ]
     },
     "metadata": {
      "needs_background": "light"
     },
     "output_type": "display_data"
    }
   ],
   "source": [
    "plot_loss_accuracy(history2)"
   ]
  },
  {
   "cell_type": "markdown",
   "metadata": {
    "collapsed": true
   },
   "source": [
    "## Think about the following questions\n",
    "\n",
    "1) How do model_1 and model_2 compare?  Which do you prefer?  If you were going to put one into production, which would you choose and why?\n",
    "\n",
    "2) Compare the trajectories of the loss function on the training set and test set for each model?  How do they compare?  What does that suggest about each model?  Do the same for accuracy?  Which do you think is more meaningful, the loss or the accuracy?"
   ]
  },
  {
   "cell_type": "code",
   "execution_count": 24,
   "metadata": {},
   "outputs": [],
   "source": [
    "#QUESTION 1\n",
    "    #model2 has an overall higher test accuracy and lower test loss than model_1\n",
    "        #Results for a sample model2 run\n",
    "            #Test Accuracy: 0.9909999966621399\n",
    "            #Test Loss: 0.043145432651280353\n",
    "        #Results for a sample model_1 run\n",
    "            #Test Accuracy: 0.974399983882904\n",
    "            #Test Loss: 0.10127111947561498\n",
    "    \n",
    "    #I would put model2 into production, because it had more overall test accuracy and lower loss compared to model_1\n",
    "    #, despite the fact that model1 has higher test accuracy and lower loss than its training counterpart "
   ]
  },
  {
   "cell_type": "code",
   "execution_count": 25,
   "metadata": {},
   "outputs": [],
   "source": [
    "#QUESTION 2\n",
    "    #model_1 has overall lower validation loss and higher validation accuracy\n",
    "    #In comparison, model2 has lower training loss and higher training accuracy\n",
    "    \n",
    "    #It suggests that model_1 would be more accurate in picking up nuances not covered in training data, as it is more \"general\"\n",
    "    #It suggests that model2 would be more tightly follow rules picked up in the training data, but be more closed off to nuance\n",
    "    \n",
    "    #While both loss and accuracy are important and necesary in producing a good model, in\n",
    "    #my opinion, loss should be considered more, since an optimal loss is directly responsible for\n",
    "    #a good model to recognize the nuances of classifying images without overfitting"
   ]
  }
 ],
 "metadata": {
  "kernelspec": {
   "display_name": "Python 3",
   "language": "python",
   "name": "python3"
  },
  "language_info": {
   "codemirror_mode": {
    "name": "ipython",
    "version": 3
   },
   "file_extension": ".py",
   "mimetype": "text/x-python",
   "name": "python",
   "nbconvert_exporter": "python",
   "pygments_lexer": "ipython3",
   "version": "3.6.8"
  }
 },
 "nbformat": 4,
 "nbformat_minor": 1
}
