{
 "cells": [
  {
   "cell_type": "markdown",
   "metadata": {},
   "source": [
    "# CLASSIFICATION USING NEURAL NETWORKS AND DEEP LEARNING "
   ]
  },
  {
   "cell_type": "markdown",
   "metadata": {},
   "source": [
    "## PART 1: Assessing Original Boilerplate"
   ]
  },
  {
   "cell_type": "code",
   "execution_count": null,
   "metadata": {},
   "outputs": [],
   "source": [
    "import keras\n",
    "from keras.datasets import mnist\n",
    "from keras.models import Sequential\n",
    "from keras.layers import Dense, Dropout, Flatten\n",
    "from keras.layers import Conv2D, MaxPooling2D\n",
    "from keras import backend as K\n",
    "\n",
    "batch_size = 128\n",
    "num_classes = 10\n",
    "epochs = 12\n",
    "\n",
    "# input image dimensions\n",
    "img_rows, img_cols = 28, 28\n",
    "\n",
    "# the data, split between train and test sets\n",
    "(x_train, y_train), (x_test, y_test) = mnist.load_data()\n",
    "\n",
    "if K.image_data_format() == 'channels_first':\n",
    "    x_train = x_train.reshape(x_train.shape[0], 1, img_rows, img_cols)\n",
    "    x_test = x_test.reshape(x_test.shape[0], 1, img_rows, img_cols)\n",
    "    input_shape = (1, img_rows, img_cols)\n",
    "else:\n",
    "    x_train = x_train.reshape(x_train.shape[0], img_rows, img_cols, 1)\n",
    "    x_test = x_test.reshape(x_test.shape[0], img_rows, img_cols, 1)\n",
    "    input_shape = (img_rows, img_cols, 1)\n",
    "\n",
    "x_train = x_train.astype('float32')\n",
    "x_test = x_test.astype('float32')\n",
    "x_train /= 255\n",
    "x_test /= 255\n",
    "print('x_train shape:', x_train.shape)\n",
    "print(x_train.shape[0], 'train samples')\n",
    "print(x_test.shape[0], 'test samples')"
   ]
  },
  {
   "cell_type": "markdown",
   "metadata": {},
   "source": [
    "## (!!!) MODIFIED CODE TO RUN: Just kept lr=0.1 for Adadelta method"
   ]
  },
  {
   "cell_type": "code",
   "execution_count": 12,
   "metadata": {
    "scrolled": true
   },
   "outputs": [
    {
     "name": "stdout",
     "output_type": "stream",
     "text": [
      "Train on 60000 samples, validate on 10000 samples\n",
      "Epoch 1/12\n",
      "60000/60000 [==============================] - 11s 189us/step - loss: 0.9214 - accuracy: 0.7243 - val_loss: 0.2751 - val_accuracy: 0.9193\n",
      "Epoch 2/12\n",
      "60000/60000 [==============================] - 11s 186us/step - loss: 0.2284 - accuracy: 0.9310 - val_loss: 0.1805 - val_accuracy: 0.9470\n",
      "Epoch 3/12\n",
      "60000/60000 [==============================] - 11s 184us/step - loss: 0.1729 - accuracy: 0.9475 - val_loss: 0.1422 - val_accuracy: 0.9565\n",
      "Epoch 4/12\n",
      "60000/60000 [==============================] - 11s 184us/step - loss: 0.1434 - accuracy: 0.9566 - val_loss: 0.1218 - val_accuracy: 0.9635\n",
      "Epoch 5/12\n",
      "60000/60000 [==============================] - 11s 186us/step - loss: 0.1238 - accuracy: 0.9628 - val_loss: 0.1050 - val_accuracy: 0.9686\n",
      "Epoch 6/12\n",
      "60000/60000 [==============================] - 11s 184us/step - loss: 0.1094 - accuracy: 0.9669 - val_loss: 0.0957 - val_accuracy: 0.9706\n",
      "Epoch 7/12\n",
      "60000/60000 [==============================] - 11s 186us/step - loss: 0.0988 - accuracy: 0.9697 - val_loss: 0.0878 - val_accuracy: 0.9723\n",
      "Epoch 8/12\n",
      "60000/60000 [==============================] - 11s 184us/step - loss: 0.0904 - accuracy: 0.9725 - val_loss: 0.0780 - val_accuracy: 0.9749\n",
      "Epoch 9/12\n",
      "60000/60000 [==============================] - 11s 185us/step - loss: 0.0837 - accuracy: 0.9748 - val_loss: 0.0764 - val_accuracy: 0.9756\n",
      "Epoch 10/12\n",
      "60000/60000 [==============================] - 11s 184us/step - loss: 0.0779 - accuracy: 0.9762 - val_loss: 0.0751 - val_accuracy: 0.9751\n",
      "Epoch 11/12\n",
      "60000/60000 [==============================] - 11s 184us/step - loss: 0.0736 - accuracy: 0.9775 - val_loss: 0.0712 - val_accuracy: 0.9764\n",
      "Epoch 12/12\n",
      "60000/60000 [==============================] - 11s 185us/step - loss: 0.0691 - accuracy: 0.9785 - val_loss: 0.0659 - val_accuracy: 0.9791\n",
      "Test loss: 0.06591485806368291\n",
      "Test accuracy: 0.9790999889373779\n"
     ]
    }
   ],
   "source": [
    "# convert class vectors to binary class matrices\n",
    "y_train = keras.utils.to_categorical(y_train, num_classes)\n",
    "y_test = keras.utils.to_categorical(y_test, num_classes)\n",
    "\n",
    "model = Sequential()\n",
    "model.add(Conv2D(6, kernel_size=(3, 3),\n",
    "                 activation='relu',\n",
    "                 input_shape=input_shape))\n",
    "model.add(MaxPooling2D(pool_size=(2, 2)))\n",
    "model.add(Conv2D(16, (3, 3), activation='relu'))\n",
    "model.add(MaxPooling2D(pool_size=(2, 2)))\n",
    "model.add(Flatten())\n",
    "model.add(Dense(120, activation='relu'))\n",
    "model.add(Dense(84, activation='relu'))\n",
    "\n",
    "model.add(Dense(num_classes, activation='softmax'))\n",
    "\n",
    "# https://keras.io/optimizers/ \n",
    "model.compile(loss=keras.losses.categorical_crossentropy,\n",
    "              optimizer=keras.optimizers.Adadelta(lr=0.1),\n",
    "              metrics=['accuracy'])\n",
    "\n",
    "model.fit(x_train, y_train,\n",
    "          batch_size=batch_size,\n",
    "          epochs=epochs,\n",
    "          verbose=1,\n",
    "          validation_data=(x_test, y_test))\n",
    "score = model.evaluate(x_test, y_test, verbose=0)\n",
    "print('Test loss:', score[0])\n",
    "print('Test accuracy:', score[1])\n"
   ]
  },
  {
   "cell_type": "code",
   "execution_count": null,
   "metadata": {},
   "outputs": [],
   "source": []
  }
 ],
 "metadata": {
  "kernelspec": {
   "display_name": "Python 3",
   "language": "python",
   "name": "python3"
  },
  "language_info": {
   "codemirror_mode": {
    "name": "ipython",
    "version": 3
   },
   "file_extension": ".py",
   "mimetype": "text/x-python",
   "name": "python",
   "nbconvert_exporter": "python",
   "pygments_lexer": "ipython3",
   "version": "3.6.8"
  }
 },
 "nbformat": 4,
 "nbformat_minor": 4
}
