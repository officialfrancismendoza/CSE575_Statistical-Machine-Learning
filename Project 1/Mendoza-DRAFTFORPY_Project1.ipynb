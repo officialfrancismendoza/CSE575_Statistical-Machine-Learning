{
 "cells": [
  {
   "cell_type": "markdown",
   "metadata": {},
   "source": [
    "# Parameter Estimation For MNIST Dataset\n",
    "\n",
    "* Classification for digits \"7\" and \"8\" only \n",
    "* 70,000 images of handwritten digits \n",
    "    * 60,000 training images \n",
    "    * 10,000 testing images  \n",
    "    \n",
    "    \n",
    "* Number of samples for TRAINING SET:\n",
    "    * \"7\": 6265\n",
    "    * \"8\": 5851\n",
    "    \n",
    "    \n",
    "* Number of samples in TESTING SET:\n",
    "    * \"7\": 1028\n",
    "    * \"8\": 974\n",
    "    \n",
    "    \n",
    "* Features\n",
    "    * Average of ALL pixel values in image\n",
    "    * Standard Deviation of all pixel values in image"
   ]
  },
  {
   "cell_type": "markdown",
   "metadata": {},
   "source": [
    "* PROGRAMMER: Francis Mendoza\n",
    "* ASUID: 1213055998"
   ]
  },
  {
   "cell_type": "code",
   "execution_count": null,
   "metadata": {},
   "outputs": [],
   "source": [
    "#UNUSED CODE LINES\n",
    "\n",
    "#filepath = 'mnist.data_mat'\n",
    "#data = pd.read_mat(filepath)\n",
    "\n",
    "#Number_df = pd.DataFrame(np.hstack((Numpyfile['X'], Numpyfile['Y'])))"
   ]
  },
  {
   "cell_type": "code",
   "execution_count": null,
   "metadata": {},
   "outputs": [],
   "source": [
    "#Extract Data Set\n",
    "\n",
    "from __future__ import print_function\n",
    "import statistics \n",
    "\n",
    "import os\n",
    "import scipy.io\n",
    "import numpy as np\n",
    "import pandas as pd \n",
    "\n",
    "\n",
    "#Import the relevant data using the filepath\n",
    "Numpyfile= scipy.io.loadmat('mnist_data.mat') \n",
    "    #Dictionary \n",
    "    \n",
    "#Display the NumpyFile to check four matrices \n",
    "#Numpyfile"
   ]
  },
  {
   "cell_type": "code",
   "execution_count": null,
   "metadata": {},
   "outputs": [],
   "source": [
    "trX_array = Numpyfile['trX']\n",
    "trX_array"
   ]
  },
  {
   "cell_type": "code",
   "execution_count": null,
   "metadata": {},
   "outputs": [],
   "source": [
    "trY_array = Numpyfile['trY']\n",
    "#trY_array"
   ]
  },
  {
   "cell_type": "code",
   "execution_count": null,
   "metadata": {},
   "outputs": [],
   "source": [
    "tsX_array = Numpyfile['tsX']\n",
    "#tsX_array"
   ]
  },
  {
   "cell_type": "code",
   "execution_count": null,
   "metadata": {},
   "outputs": [],
   "source": [
    "tsY_array = Numpyfile['tsY']\n",
    "#trY_array"
   ]
  },
  {
   "cell_type": "code",
   "execution_count": null,
   "metadata": {},
   "outputs": [],
   "source": [
    "#Checking length\n",
    "    #6265 + 5851 = 12116\n",
    "    #1028 + 974 = 2002\n",
    "\n",
    "#REPRESENTS POINTS\n",
    "print(\"trX dimensions: \"+ str(Numpyfile['trX'].shape))\n",
    "print(\"tsX dimensions: \"+ str(Numpyfile['tsX'].shape))\n",
    "\n",
    "#LABELS FOR RESPECTIVE SETS\n",
    "print(\"trY dimensions: \"+ str(Numpyfile['trY'].shape))\n",
    "print(\"tsY dimensions: \"+ str(Numpyfile['tsY'].shape))"
   ]
  },
  {
   "cell_type": "code",
   "execution_count": null,
   "metadata": {},
   "outputs": [],
   "source": [
    "#Feature Selection\n",
    "\"\"\"\n",
    "REMEMBER: Feature selection is extremely importantby ensuring you are paying attention to\n",
    "the right features \n",
    "    \n",
    "Paying attention to irrelevant or partially relevant features can negatively impact model performance\n",
    "\"\"\"    \n",
    "trX_new = []\n",
    "\n",
    "#Nested loop to iterate through numpy array of lists\n",
    "for i in Numpyfile['trX']:\n",
    "    mean_temp = statistics.mean(i)\n",
    "    std_temp = statistics.stdev(i)\n",
    "    #trX_new += [[mean_temp, std_temp]]\n",
    "    trX_new += [mean_temp]\n",
    "    \n",
    "trX_new"
   ]
  },
  {
   "cell_type": "code",
   "execution_count": null,
   "metadata": {},
   "outputs": [],
   "source": [
    "tsX_new = []\n",
    "\n",
    "for i in Numpyfile['tsX']:\n",
    "    mean_temp = statistics.mean(i)\n",
    "    std_temp = statistics.stdev(i)\n",
    "    #tsX_new += [[mean_temp, std_temp]]\n",
    "    tsX_new += [mean_temp]\n",
    "\n",
    "tsX_new"
   ]
  },
  {
   "cell_type": "code",
   "execution_count": null,
   "metadata": {},
   "outputs": [],
   "source": [
    "#Provision Training and Testing Data\n",
    "\n",
    "    #Access 7\n",
    "    \n",
    "    #Access 8"
   ]
  },
  {
   "cell_type": "markdown",
   "metadata": {},
   "source": [
    "# PART 1: Extract Features & Estimate Parameters\n",
    "* Estimate parameters for 2D normal distribution for EACH DIGIT using training data\n",
    "* Two distributions- one for each digit \n",
    "* MLE Density Estimation\n",
    "\n",
    "\n",
    "* Features\n",
    "    * Average of ALL pixel values in image\n",
    "    * Standard Deviation of all pixel values in image\n",
    "    \n",
    "    \n",
    "* DELIVER\n",
    "    * Extract features for both TRAINING and TESTING set\n",
    "    * Parameter estimation"
   ]
  },
  {
   "cell_type": "code",
   "execution_count": null,
   "metadata": {},
   "outputs": [],
   "source": []
  },
  {
   "cell_type": "markdown",
   "metadata": {},
   "source": [
    "# PART 2: Naive Bayes using Estimated Distributions\n",
    "* Report classification accuracy for \"7\" and \"8\"\n",
    "* Produce predicted label for each testing sample\n",
    "\n",
    "\n",
    "* DELIVER\n",
    "    * Predicted Labels\n",
    "    * Classification accuracy for \"7\" and \"8\""
   ]
  },
  {
   "cell_type": "code",
   "execution_count": null,
   "metadata": {},
   "outputs": [],
   "source": []
  },
  {
   "cell_type": "markdown",
   "metadata": {},
   "source": [
    "# PART 3: Logistic Regression using Gradient Ascent\n",
    "* Report classification accuracy for \"7\" and \"8\"\n",
    "* Produce predicted label for each testing sample\n",
    "* (!!!) GRADIENT ASCENT MUST BE DONE FROM SCRATCH\n",
    "\n",
    "\n",
    "* DELIVER\n",
    "    * Predicted Labels\n",
    "    * Classification accuracy for \"7\" and \"8\""
   ]
  },
  {
   "cell_type": "code",
   "execution_count": null,
   "metadata": {},
   "outputs": [],
   "source": []
  }
 ],
 "metadata": {
  "kernelspec": {
   "display_name": "Python 3",
   "language": "python",
   "name": "python3"
  },
  "language_info": {
   "codemirror_mode": {
    "name": "ipython",
    "version": 3
   },
   "file_extension": ".py",
   "mimetype": "text/x-python",
   "name": "python",
   "nbconvert_exporter": "python",
   "pygments_lexer": "ipython3",
   "version": "3.6.8"
  }
 },
 "nbformat": 4,
 "nbformat_minor": 4
}
