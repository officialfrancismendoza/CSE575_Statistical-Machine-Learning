{
 "cells": [
  {
   "cell_type": "markdown",
   "metadata": {},
   "source": [
    "**PROGRAMMER:** Francis Mendoza\n",
    "\n",
    "**ASUID:** 1213055998\n",
    "\n",
    "**EMAIL:** fmendoz7@asu.edu\n",
    "\n",
    "**NOTE:** This Jupyter Notebook file is provided **FOR REFERENCE**, as all the code was developed & successfully compiled here before conversion into a .py file\n",
    "\n",
    "-------------------------------"
   ]
  },
  {
   "cell_type": "markdown",
   "metadata": {},
   "source": [
    "# Parameter Estimation For MNIST Dataset\n",
    "\n",
    "* Classification for digits \"7\" and \"8\" only \n",
    "* 70,000 images of handwritten digits \n",
    "    * 60,000 training images \n",
    "    * 10,000 testing images  \n",
    "    \n",
    "    \n",
    "* Number of samples for TRAINING SET:\n",
    "    * \"7\": 6265\n",
    "    * \"8\": 5851\n",
    "    \n",
    "    \n",
    "* Number of samples in TESTING SET:\n",
    "    * \"7\": 1028\n",
    "    * \"8\": 974\n",
    "    \n",
    "    \n",
    "* Features\n",
    "    * Average of ALL pixel values in image\n",
    "    * Standard Deviation of all pixel values in image"
   ]
  },
  {
   "cell_type": "code",
   "execution_count": 100,
   "metadata": {},
   "outputs": [
    {
     "data": {
      "text/plain": [
       "{'__header__': b'MATLAB 5.0 MAT-file Platform: nt, Created on: Wed Sep 11 18:23:31 2019',\n",
       " '__version__': '1.0',\n",
       " '__globals__': [],\n",
       " 'trX': array([[0., 0., 0., ..., 0., 0., 0.],\n",
       "        [0., 0., 0., ..., 0., 0., 0.],\n",
       "        [0., 0., 0., ..., 0., 0., 0.],\n",
       "        ...,\n",
       "        [0., 0., 0., ..., 0., 0., 0.],\n",
       "        [0., 0., 0., ..., 0., 0., 0.],\n",
       "        [0., 0., 0., ..., 0., 0., 0.]]),\n",
       " 'trY': array([[0., 0., 0., ..., 1., 1., 1.]]),\n",
       " 'tsX': array([[0., 0., 0., ..., 0., 0., 0.],\n",
       "        [0., 0., 0., ..., 0., 0., 0.],\n",
       "        [0., 0., 0., ..., 0., 0., 0.],\n",
       "        ...,\n",
       "        [0., 0., 0., ..., 0., 0., 0.],\n",
       "        [0., 0., 0., ..., 0., 0., 0.],\n",
       "        [0., 0., 0., ..., 0., 0., 0.]]),\n",
       " 'tsY': array([[0., 0., 0., ..., 1., 1., 1.]])}"
      ]
     },
     "execution_count": 100,
     "metadata": {},
     "output_type": "execute_result"
    }
   ],
   "source": [
    "#Extract Data Set\n",
    "\n",
    "from __future__ import print_function\n",
    "import statistics \n",
    "\n",
    "import os\n",
    "import scipy.io\n",
    "import numpy as np\n",
    "import pandas as pd \n",
    "\n",
    "import matplotlib.pyplot as plt\n",
    "%matplotlib inline\n",
    "\n",
    "#Import the relevant data using the filepath\n",
    "Numpyfile= scipy.io.loadmat('mnist_data.mat') \n",
    "    #Dictionary \n",
    "    \n",
    "#Display the NumpyFile to check four matrices \n",
    "Numpyfile"
   ]
  },
  {
   "cell_type": "code",
   "execution_count": 101,
   "metadata": {},
   "outputs": [
    {
     "data": {
      "text/plain": [
       "array([[0., 0., 0., ..., 0., 0., 0.],\n",
       "       [0., 0., 0., ..., 0., 0., 0.],\n",
       "       [0., 0., 0., ..., 0., 0., 0.],\n",
       "       ...,\n",
       "       [0., 0., 0., ..., 0., 0., 0.],\n",
       "       [0., 0., 0., ..., 0., 0., 0.],\n",
       "       [0., 0., 0., ..., 0., 0., 0.]])"
      ]
     },
     "execution_count": 101,
     "metadata": {},
     "output_type": "execute_result"
    }
   ],
   "source": [
    "trX_array = Numpyfile['trX']\n",
    "trX_array"
   ]
  },
  {
   "cell_type": "code",
   "execution_count": 102,
   "metadata": {},
   "outputs": [
    {
     "data": {
      "text/plain": [
       "array([[0., 0., 0., ..., 1., 1., 1.]])"
      ]
     },
     "execution_count": 102,
     "metadata": {},
     "output_type": "execute_result"
    }
   ],
   "source": [
    "trY_array = Numpyfile['trY']\n",
    "trY_array"
   ]
  },
  {
   "cell_type": "code",
   "execution_count": 103,
   "metadata": {},
   "outputs": [
    {
     "data": {
      "text/plain": [
       "array([[0., 0., 0., ..., 0., 0., 0.],\n",
       "       [0., 0., 0., ..., 0., 0., 0.],\n",
       "       [0., 0., 0., ..., 0., 0., 0.],\n",
       "       ...,\n",
       "       [0., 0., 0., ..., 0., 0., 0.],\n",
       "       [0., 0., 0., ..., 0., 0., 0.],\n",
       "       [0., 0., 0., ..., 0., 0., 0.]])"
      ]
     },
     "execution_count": 103,
     "metadata": {},
     "output_type": "execute_result"
    }
   ],
   "source": [
    "tsX_array = Numpyfile['tsX']\n",
    "tsX_array"
   ]
  },
  {
   "cell_type": "code",
   "execution_count": 104,
   "metadata": {},
   "outputs": [
    {
     "data": {
      "text/plain": [
       "array([[0., 0., 0., ..., 1., 1., 1.]])"
      ]
     },
     "execution_count": 104,
     "metadata": {},
     "output_type": "execute_result"
    }
   ],
   "source": [
    "tsY_array = Numpyfile['tsY']\n",
    "trY_array"
   ]
  },
  {
   "cell_type": "code",
   "execution_count": 105,
   "metadata": {},
   "outputs": [
    {
     "name": "stdout",
     "output_type": "stream",
     "text": [
      "trX dimensions: (12116, 784)\n",
      "tsX dimensions: (2002, 784)\n",
      "trY dimensions: (1, 12116)\n",
      "tsY dimensions: (1, 2002)\n"
     ]
    }
   ],
   "source": [
    "#Checking length\n",
    "    #6265 + 5851 = 12116\n",
    "    #1028 + 974 = 2002\n",
    "\n",
    "#REPRESENTS POINTS\n",
    "print(\"trX dimensions: \"+ str(Numpyfile['trX'].shape))\n",
    "print(\"tsX dimensions: \"+ str(Numpyfile['tsX'].shape))\n",
    "\n",
    "#LABELS FOR RESPECTIVE SETS\n",
    "print(\"trY dimensions: \"+ str(Numpyfile['trY'].shape))\n",
    "print(\"tsY dimensions: \"+ str(Numpyfile['tsY'].shape))"
   ]
  },
  {
   "cell_type": "markdown",
   "metadata": {},
   "source": [
    "# PART 1: Extract Features & Estimate Parameters\n",
    "* Estimate parameters for 2D normal distribution for EACH DIGIT using training data\n",
    "* Two distributions- one for each digit \n",
    "* MLE Density Estimation\n",
    "\n",
    "\n",
    "* Features\n",
    "    * Average of ALL pixel values in image\n",
    "    * Standard Deviation of all pixel values in image\n",
    "    \n",
    "    \n",
    "* DELIVER\n",
    "    * Extract features for both TRAINING and TESTING set (7 and 8 within one training/testing matrix)\n",
    "    * Parameter estimation"
   ]
  },
  {
   "cell_type": "code",
   "execution_count": null,
   "metadata": {},
   "outputs": [],
   "source": [
    "#Feature Selection\n",
    "\"\"\"\n",
    "REMEMBER: Feature selection is extremely importantby ensuring you are paying attention to\n",
    "the right features \n",
    "    \n",
    "Paying attention to irrelevant or partially relevant features can negatively impact model performance\n",
    "\"\"\"    \n",
    "trX_newList = []\n",
    "\n",
    "#Nested loop to iterate through numpy array of lists\n",
    "for i in Numpyfile['trX']:\n",
    "    mean_temp = statistics.mean(i)\n",
    "    std_temp = statistics.stdev(i)\n",
    "    #trX_new += [[mean_temp, std_temp]]\n",
    "    trX_newList += [[mean_temp, std_temp]]\n",
    "    \n",
    "    \n",
    "print(\"List of lists for total TRAINING data, trX_new\")\n",
    "trX_newList"
   ]
  },
  {
   "cell_type": "code",
   "execution_count": null,
   "metadata": {},
   "outputs": [],
   "source": [
    "trX_newArray = np.array(trX_newList)\n",
    "print(\"SHAPE OF TOTAL TRAINING DATA, trX_new: \" + str(trX_newArray.shape))\n",
    "trX_newArray"
   ]
  },
  {
   "cell_type": "markdown",
   "metadata": {},
   "source": [
    "-------------------------"
   ]
  },
  {
   "cell_type": "code",
   "execution_count": null,
   "metadata": {},
   "outputs": [],
   "source": [
    "tsX_newList = []\n",
    "\n",
    "for i in Numpyfile['tsX']:\n",
    "    mean_temp = statistics.mean(i)\n",
    "    std_temp = statistics.stdev(i)\n",
    "    #tsX_new += [[mean_temp, std_temp]]\n",
    "    tsX_newList += [[mean_temp, std_temp]]\n",
    "    \n",
    "\"\"\"\n",
    "#----------------------------------------------------\n",
    "tsX_preList7_PT1 = tsX_newList[0:1028]\n",
    "tsXMeanHolder_SEVEN_PT1 = [i[0] for i in tsX_preList7_PT1]\n",
    "tsXSTDHolder_SEVEN_PT1 = [i[1] for i in tsX_preList7_PT1]\n",
    "\n",
    "#----------------------------------------------------\n",
    "tsX_preList8_PT1 = tsX_newList[1028:2003]\n",
    "tsXMeanHolder_EIGHT_PT1 = [i[0] for i in tsX_preList8_PT1]\n",
    "tsXSTDHolder_EIGHT_PT1 = [i[1] for i in tsX_preList8_PT1]\n",
    "#----------------------------------------------------\n",
    "\"\"\"\n",
    "\n",
    "print(\"List of lists for total TESTING data, tsX_new\")\n",
    "tsX_newList"
   ]
  },
  {
   "cell_type": "code",
   "execution_count": null,
   "metadata": {},
   "outputs": [],
   "source": [
    "tsX_newArray = np.array(tsX_newList)\n",
    "print(\"SHAPE OF TOTAL TESTING DATA, tsX_new: \" + str(tsX_newArray.shape))\n",
    "tsX_newArray"
   ]
  },
  {
   "cell_type": "markdown",
   "metadata": {},
   "source": [
    "# ----------------------------------------------------------------------------------------"
   ]
  },
  {
   "cell_type": "markdown",
   "metadata": {},
   "source": [
    "# PART 2: Naive Bayes using Estimated Distributions\n",
    "* Report classification accuracy for \"7\" and \"8\"\n",
    "* Produce predicted label for each testing sample\n",
    "\n",
    "\n",
    "* DELIVER\n",
    "    * Predicted Labels\n",
    "    * Classification accuracy for \"7\" and \"8\""
   ]
  },
  {
   "cell_type": "code",
   "execution_count": null,
   "metadata": {},
   "outputs": [],
   "source": [
    "#PART 2: PARTITION\n",
    "\n",
    "#Split trX into trx7 and trx8 using loop\n",
    "    #ACTIVELY CHECKING for the trY value\n",
    "    \n",
    "temp = trY_array.tolist()\n",
    "trY_list = temp[0]\n",
    "\n",
    "#print(trY_list)\n",
    "#print(\"trY_list length: \", len(trY_list))\n",
    "    \n",
    "x_train_7 = []\n",
    "x_train_8 = []\n",
    "\n",
    "#Iterate through the entire training label set & assign accordingly\n",
    "for i in range(len(trY_list)):\n",
    "    #If it happens to be \"7\"\n",
    "    if trY_list[i] == 0:\n",
    "        x_train_7.append(trX_array[i])\n",
    "\n",
    "    #Else, it happens to be \"8\". Implies try_list[i] == 1\n",
    "    else:\n",
    "        x_train_8.append(trX_array[i])\n",
    "\n",
    "    #tr_Y is ONE VECTOR of ALL THE TRUTH VALUES\n",
    "    \n",
    "print(\"x_train7: \" + str(x_train_7))"
   ]
  },
  {
   "cell_type": "code",
   "execution_count": null,
   "metadata": {},
   "outputs": [],
   "source": [
    "#PART 3: Calculate Density Distribution Parameters"
   ]
  },
  {
   "cell_type": "code",
   "execution_count": null,
   "metadata": {},
   "outputs": [],
   "source": [
    "#3.1: Calculate Mean Vector Of Means\n",
    "    #One mean vector for 7 (2D)\n",
    "        #(mean, standard deviation) for x_train_7\n",
    "    \n",
    "    #One mean vector for 8 (2D)\n",
    "        #same for x_train_8"
   ]
  },
  {
   "cell_type": "code",
   "execution_count": null,
   "metadata": {},
   "outputs": [],
   "source": [
    "#3.2: Calculate Covariance\n",
    "\n",
    "#sigma7 is covariance formula from math \n",
    "    #Use the mean vectors we calculated \n",
    "    #List of lists of length 2 \n",
    "    \n",
    "#sigma8\n",
    "\n",
    "from scipy.stats import multivariate_normal\n",
    "# CREATE 2D GAUSSIAN\n",
    "\n",
    "density7 = multivariate_normal(mu7, sigma7) # mu7 = [8,0.2], sigma7=[1,0;0,1]\n",
    "#Have copy for 8"
   ]
  },
  {
   "cell_type": "code",
   "execution_count": null,
   "metadata": {},
   "outputs": [],
   "source": [
    "#PART 4: Pull Test Example\n",
    "\n",
    "    #Called a .pdf function on the density we previously defined \n",
    "    \n",
    "#TESTING:\n",
    "px_given_d = density7.pdf([9,0.2]) # returns 0.5\n",
    "#Have a copy for 8\n",
    "\n",
    "#Determine which px_ is higher and append the respective value "
   ]
  },
  {
   "cell_type": "code",
   "execution_count": null,
   "metadata": {},
   "outputs": [],
   "source": [
    "#PART 5: Accuracy Function\n",
    "    #Subtract two arrays (score vector from one-dimensional tr_Y)\n",
    "    #If it equals zero (from the subtraction of two arrays), increment counter\n",
    "    #Counter/total = Accuracy Value"
   ]
  },
  {
   "cell_type": "markdown",
   "metadata": {},
   "source": [
    "# PART 3: Logistic Regression using Gradient Ascent\n",
    "* Report classification accuracy for \"7\" and \"8\"\n",
    "* Produce predicted label for each testing sample\n",
    "* (!!!) GRADIENT ASCENT MUST BE DONE FROM SCRATCH\n",
    "\n",
    "\n",
    "* DELIVER\n",
    "    * Predicted Labels\n",
    "    * Classification accuracy for \"7\" and \"8\""
   ]
  },
  {
   "cell_type": "code",
   "execution_count": null,
   "metadata": {},
   "outputs": [],
   "source": []
  }
 ],
 "metadata": {
  "kernelspec": {
   "display_name": "Python 3",
   "language": "python",
   "name": "python3"
  },
  "language_info": {
   "codemirror_mode": {
    "name": "ipython",
    "version": 3
   },
   "file_extension": ".py",
   "mimetype": "text/x-python",
   "name": "python",
   "nbconvert_exporter": "python",
   "pygments_lexer": "ipython3",
   "version": "3.6.8"
  }
 },
 "nbformat": 4,
 "nbformat_minor": 4
}
